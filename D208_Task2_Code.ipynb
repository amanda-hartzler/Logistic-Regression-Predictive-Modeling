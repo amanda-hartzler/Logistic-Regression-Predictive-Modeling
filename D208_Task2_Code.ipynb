{
 "cells": [
  {
   "cell_type": "code",
   "execution_count": 144,
   "id": "58a25886",
   "metadata": {},
   "outputs": [],
   "source": [
    "#import packages \n",
    "import pandas as pd \n",
    "import numpy as np\n",
    "import matplotlib.pyplot as plt\n",
    "import matplotlib as mpl\n",
    "import seaborn as sns\n",
    "from sklearn.preprocessing import LabelEncoder\n",
    "import sklearn as sk\n",
    "import statsmodels.api as sm\n",
    "from statsmodels.stats.outliers_influence import variance_inflation_factor\n",
    "import statsmodels.formula.api as smf\n",
    "from statsmodels.formula.api import logit\n",
    "from sklearn.model_selection import train_test_split\n",
    "from sklearn.linear_model import LogisticRegression\n",
    "from sklearn.metrics import confusion_matrix\n",
    "from sklearn.model_selection import cross_val_score"
   ]
  },
  {
   "cell_type": "markdown",
   "id": "a3819cf4",
   "metadata": {},
   "source": [
    "# Data Preparation "
   ]
  },
  {
   "cell_type": "code",
   "execution_count": 145,
   "id": "1c9ceefc",
   "metadata": {},
   "outputs": [
    {
     "data": {
      "text/html": [
       "<div>\n",
       "<style scoped>\n",
       "    .dataframe tbody tr th:only-of-type {\n",
       "        vertical-align: middle;\n",
       "    }\n",
       "\n",
       "    .dataframe tbody tr th {\n",
       "        vertical-align: top;\n",
       "    }\n",
       "\n",
       "    .dataframe thead th {\n",
       "        text-align: right;\n",
       "    }\n",
       "</style>\n",
       "<table border=\"1\" class=\"dataframe\">\n",
       "  <thead>\n",
       "    <tr style=\"text-align: right;\">\n",
       "      <th></th>\n",
       "      <th>CaseOrder</th>\n",
       "      <th>Customer_id</th>\n",
       "      <th>Interaction</th>\n",
       "      <th>UID</th>\n",
       "      <th>City</th>\n",
       "      <th>State</th>\n",
       "      <th>County</th>\n",
       "      <th>Zip</th>\n",
       "      <th>Lat</th>\n",
       "      <th>Lng</th>\n",
       "      <th>...</th>\n",
       "      <th>MonthlyCharge</th>\n",
       "      <th>Bandwidth_GB_Year</th>\n",
       "      <th>Item1</th>\n",
       "      <th>Item2</th>\n",
       "      <th>Item3</th>\n",
       "      <th>Item4</th>\n",
       "      <th>Item5</th>\n",
       "      <th>Item6</th>\n",
       "      <th>Item7</th>\n",
       "      <th>Item8</th>\n",
       "    </tr>\n",
       "  </thead>\n",
       "  <tbody>\n",
       "    <tr>\n",
       "      <th>0</th>\n",
       "      <td>1</td>\n",
       "      <td>K409198</td>\n",
       "      <td>aa90260b-4141-4a24-8e36-b04ce1f4f77b</td>\n",
       "      <td>e885b299883d4f9fb18e39c75155d990</td>\n",
       "      <td>Point Baker</td>\n",
       "      <td>AK</td>\n",
       "      <td>Prince of Wales-Hyder</td>\n",
       "      <td>99927</td>\n",
       "      <td>56.25100</td>\n",
       "      <td>-133.37571</td>\n",
       "      <td>...</td>\n",
       "      <td>172.455519</td>\n",
       "      <td>904.536110</td>\n",
       "      <td>5</td>\n",
       "      <td>5</td>\n",
       "      <td>5</td>\n",
       "      <td>3</td>\n",
       "      <td>4</td>\n",
       "      <td>4</td>\n",
       "      <td>3</td>\n",
       "      <td>4</td>\n",
       "    </tr>\n",
       "    <tr>\n",
       "      <th>1</th>\n",
       "      <td>2</td>\n",
       "      <td>S120509</td>\n",
       "      <td>fb76459f-c047-4a9d-8af9-e0f7d4ac2524</td>\n",
       "      <td>f2de8bef964785f41a2959829830fb8a</td>\n",
       "      <td>West Branch</td>\n",
       "      <td>MI</td>\n",
       "      <td>Ogemaw</td>\n",
       "      <td>48661</td>\n",
       "      <td>44.32893</td>\n",
       "      <td>-84.24080</td>\n",
       "      <td>...</td>\n",
       "      <td>242.632554</td>\n",
       "      <td>800.982766</td>\n",
       "      <td>3</td>\n",
       "      <td>4</td>\n",
       "      <td>3</td>\n",
       "      <td>3</td>\n",
       "      <td>4</td>\n",
       "      <td>3</td>\n",
       "      <td>4</td>\n",
       "      <td>4</td>\n",
       "    </tr>\n",
       "    <tr>\n",
       "      <th>2</th>\n",
       "      <td>3</td>\n",
       "      <td>K191035</td>\n",
       "      <td>344d114c-3736-4be5-98f7-c72c281e2d35</td>\n",
       "      <td>f1784cfa9f6d92ae816197eb175d3c71</td>\n",
       "      <td>Yamhill</td>\n",
       "      <td>OR</td>\n",
       "      <td>Yamhill</td>\n",
       "      <td>97148</td>\n",
       "      <td>45.35589</td>\n",
       "      <td>-123.24657</td>\n",
       "      <td>...</td>\n",
       "      <td>159.947583</td>\n",
       "      <td>2054.706961</td>\n",
       "      <td>4</td>\n",
       "      <td>4</td>\n",
       "      <td>2</td>\n",
       "      <td>4</td>\n",
       "      <td>4</td>\n",
       "      <td>3</td>\n",
       "      <td>3</td>\n",
       "      <td>3</td>\n",
       "    </tr>\n",
       "    <tr>\n",
       "      <th>3</th>\n",
       "      <td>4</td>\n",
       "      <td>D90850</td>\n",
       "      <td>abfa2b40-2d43-4994-b15a-989b8c79e311</td>\n",
       "      <td>dc8a365077241bb5cd5ccd305136b05e</td>\n",
       "      <td>Del Mar</td>\n",
       "      <td>CA</td>\n",
       "      <td>San Diego</td>\n",
       "      <td>92014</td>\n",
       "      <td>32.96687</td>\n",
       "      <td>-117.24798</td>\n",
       "      <td>...</td>\n",
       "      <td>119.956840</td>\n",
       "      <td>2164.579412</td>\n",
       "      <td>4</td>\n",
       "      <td>4</td>\n",
       "      <td>4</td>\n",
       "      <td>2</td>\n",
       "      <td>5</td>\n",
       "      <td>4</td>\n",
       "      <td>3</td>\n",
       "      <td>3</td>\n",
       "    </tr>\n",
       "    <tr>\n",
       "      <th>4</th>\n",
       "      <td>5</td>\n",
       "      <td>K662701</td>\n",
       "      <td>68a861fd-0d20-4e51-a587-8a90407ee574</td>\n",
       "      <td>aabb64a116e83fdc4befc1fbab1663f9</td>\n",
       "      <td>Needville</td>\n",
       "      <td>TX</td>\n",
       "      <td>Fort Bend</td>\n",
       "      <td>77461</td>\n",
       "      <td>29.38012</td>\n",
       "      <td>-95.80673</td>\n",
       "      <td>...</td>\n",
       "      <td>149.948316</td>\n",
       "      <td>271.493436</td>\n",
       "      <td>4</td>\n",
       "      <td>4</td>\n",
       "      <td>4</td>\n",
       "      <td>3</td>\n",
       "      <td>4</td>\n",
       "      <td>4</td>\n",
       "      <td>4</td>\n",
       "      <td>5</td>\n",
       "    </tr>\n",
       "  </tbody>\n",
       "</table>\n",
       "<p>5 rows × 50 columns</p>\n",
       "</div>"
      ],
      "text/plain": [
       "   CaseOrder Customer_id                           Interaction  \\\n",
       "0          1     K409198  aa90260b-4141-4a24-8e36-b04ce1f4f77b   \n",
       "1          2     S120509  fb76459f-c047-4a9d-8af9-e0f7d4ac2524   \n",
       "2          3     K191035  344d114c-3736-4be5-98f7-c72c281e2d35   \n",
       "3          4      D90850  abfa2b40-2d43-4994-b15a-989b8c79e311   \n",
       "4          5     K662701  68a861fd-0d20-4e51-a587-8a90407ee574   \n",
       "\n",
       "                                UID         City State                 County  \\\n",
       "0  e885b299883d4f9fb18e39c75155d990  Point Baker    AK  Prince of Wales-Hyder   \n",
       "1  f2de8bef964785f41a2959829830fb8a  West Branch    MI                 Ogemaw   \n",
       "2  f1784cfa9f6d92ae816197eb175d3c71      Yamhill    OR                Yamhill   \n",
       "3  dc8a365077241bb5cd5ccd305136b05e      Del Mar    CA              San Diego   \n",
       "4  aabb64a116e83fdc4befc1fbab1663f9    Needville    TX              Fort Bend   \n",
       "\n",
       "     Zip       Lat        Lng  ...  MonthlyCharge Bandwidth_GB_Year Item1  \\\n",
       "0  99927  56.25100 -133.37571  ...     172.455519        904.536110     5   \n",
       "1  48661  44.32893  -84.24080  ...     242.632554        800.982766     3   \n",
       "2  97148  45.35589 -123.24657  ...     159.947583       2054.706961     4   \n",
       "3  92014  32.96687 -117.24798  ...     119.956840       2164.579412     4   \n",
       "4  77461  29.38012  -95.80673  ...     149.948316        271.493436     4   \n",
       "\n",
       "  Item2  Item3  Item4  Item5 Item6 Item7 Item8  \n",
       "0     5      5      3      4     4     3     4  \n",
       "1     4      3      3      4     3     4     4  \n",
       "2     4      2      4      4     3     3     3  \n",
       "3     4      4      2      5     4     3     3  \n",
       "4     4      4      3      4     4     4     5  \n",
       "\n",
       "[5 rows x 50 columns]"
      ]
     },
     "execution_count": 145,
     "metadata": {},
     "output_type": "execute_result"
    }
   ],
   "source": [
    "#import data file & preview data \n",
    "df = pd.read_csv('/Users/Amanda.Hartzler/Desktop/Data_Analytics_Masters/D208/churn_clean.csv')\n",
    "df.head()"
   ]
  },
  {
   "cell_type": "code",
   "execution_count": 146,
   "id": "79bb9978",
   "metadata": {},
   "outputs": [
    {
     "name": "stdout",
     "output_type": "stream",
     "text": [
      "<class 'pandas.core.frame.DataFrame'>\n",
      "RangeIndex: 10000 entries, 0 to 9999\n",
      "Data columns (total 50 columns):\n",
      " #   Column                Non-Null Count  Dtype  \n",
      "---  ------                --------------  -----  \n",
      " 0   CaseOrder             10000 non-null  int64  \n",
      " 1   Customer_id           10000 non-null  object \n",
      " 2   Interaction           10000 non-null  object \n",
      " 3   UID                   10000 non-null  object \n",
      " 4   City                  10000 non-null  object \n",
      " 5   State                 10000 non-null  object \n",
      " 6   County                10000 non-null  object \n",
      " 7   Zip                   10000 non-null  int64  \n",
      " 8   Lat                   10000 non-null  float64\n",
      " 9   Lng                   10000 non-null  float64\n",
      " 10  Population            10000 non-null  int64  \n",
      " 11  Area                  10000 non-null  object \n",
      " 12  TimeZone              10000 non-null  object \n",
      " 13  Job                   10000 non-null  object \n",
      " 14  Children              10000 non-null  int64  \n",
      " 15  Age                   10000 non-null  int64  \n",
      " 16  Income                10000 non-null  float64\n",
      " 17  Marital               10000 non-null  object \n",
      " 18  Gender                10000 non-null  object \n",
      " 19  Churn                 10000 non-null  object \n",
      " 20  Outage_sec_perweek    10000 non-null  float64\n",
      " 21  Email                 10000 non-null  int64  \n",
      " 22  Contacts              10000 non-null  int64  \n",
      " 23  Yearly_equip_failure  10000 non-null  int64  \n",
      " 24  Techie                10000 non-null  object \n",
      " 25  Contract              10000 non-null  object \n",
      " 26  Port_modem            10000 non-null  object \n",
      " 27  Tablet                10000 non-null  object \n",
      " 28  InternetService       10000 non-null  object \n",
      " 29  Phone                 10000 non-null  object \n",
      " 30  Multiple              10000 non-null  object \n",
      " 31  OnlineSecurity        10000 non-null  object \n",
      " 32  OnlineBackup          10000 non-null  object \n",
      " 33  DeviceProtection      10000 non-null  object \n",
      " 34  TechSupport           10000 non-null  object \n",
      " 35  StreamingTV           10000 non-null  object \n",
      " 36  StreamingMovies       10000 non-null  object \n",
      " 37  PaperlessBilling      10000 non-null  object \n",
      " 38  PaymentMethod         10000 non-null  object \n",
      " 39  Tenure                10000 non-null  float64\n",
      " 40  MonthlyCharge         10000 non-null  float64\n",
      " 41  Bandwidth_GB_Year     10000 non-null  float64\n",
      " 42  Item1                 10000 non-null  int64  \n",
      " 43  Item2                 10000 non-null  int64  \n",
      " 44  Item3                 10000 non-null  int64  \n",
      " 45  Item4                 10000 non-null  int64  \n",
      " 46  Item5                 10000 non-null  int64  \n",
      " 47  Item6                 10000 non-null  int64  \n",
      " 48  Item7                 10000 non-null  int64  \n",
      " 49  Item8                 10000 non-null  int64  \n",
      "dtypes: float64(7), int64(16), object(27)\n",
      "memory usage: 3.8+ MB\n"
     ]
    }
   ],
   "source": [
    "#determine column names, non-null values, & data types \n",
    "df.info()"
   ]
  },
  {
   "cell_type": "code",
   "execution_count": 147,
   "id": "049231a8",
   "metadata": {},
   "outputs": [
    {
     "name": "stdout",
     "output_type": "stream",
     "text": [
      "0       False\n",
      "1       False\n",
      "2       False\n",
      "3       False\n",
      "4       False\n",
      "        ...  \n",
      "9995    False\n",
      "9996    False\n",
      "9997    False\n",
      "9998    False\n",
      "9999    False\n",
      "Length: 10000, dtype: bool\n",
      "0\n"
     ]
    }
   ],
   "source": [
    "#There are no missing/null values. \n",
    "\n",
    "#determine if any rows are duplicated \n",
    "print(df.duplicated())\n",
    "print(df.duplicated().sum())"
   ]
  },
  {
   "cell_type": "code",
   "execution_count": 148,
   "id": "31666703",
   "metadata": {},
   "outputs": [
    {
     "data": {
      "image/png": "[encoded data removed]",
      "text/plain": [
       "<Figure size 432x288 with 1 Axes>"
      ]
     },
     "metadata": {
      "needs_background": "light"
     },
     "output_type": "display_data"
    },
    {
     "data": {
      "image/png": "[encoded data removed]",
      "text/plain": [
       "<Figure size 432x288 with 1 Axes>"
      ]
     },
     "metadata": {
      "needs_background": "light"
     },
     "output_type": "display_data"
    },
    {
     "data": {
      "image/png": "[encoded data removed]",
      "text/plain": [
       "<Figure size 432x288 with 1 Axes>"
      ]
     },
     "metadata": {
      "needs_background": "light"
     },
     "output_type": "display_data"
    },
    {
     "data": {
      "image/png": "[encoded data removed]",
      "text/plain": [
       "<Figure size 432x288 with 1 Axes>"
      ]
     },
     "metadata": {
      "needs_background": "light"
     },
     "output_type": "display_data"
    },
    {
     "data": {
      "image/png": "[encoded data removed]",
      "text/plain": [
       "<Figure size 432x288 with 1 Axes>"
      ]
     },
     "metadata": {
      "needs_background": "light"
     },
     "output_type": "display_data"
    },
    {
     "data": {
      "image/png": "[encoded data removed]",
      "text/plain": [
       "<Figure size 432x288 with 1 Axes>"
      ]
     },
     "metadata": {
      "needs_background": "light"
     },
     "output_type": "display_data"
    },
    {
     "data": {
      "image/png": "[encoded data removed]",
      "text/plain": [
       "<Figure size 432x288 with 1 Axes>"
      ]
     },
     "metadata": {
      "needs_background": "light"
     },
     "output_type": "display_data"
    },
    {
     "data": {
      "image/png": "[encoded data removed]",
      "text/plain": [
       "<Figure size 432x288 with 1 Axes>"
      ]
     },
     "metadata": {
      "needs_background": "light"
     },
     "output_type": "display_data"
    },
    {
     "data": {
      "image/png": "[encoded data removed]",
      "text/plain": [
       "<Figure size 432x288 with 1 Axes>"
      ]
     },
     "metadata": {
      "needs_background": "light"
     },
     "output_type": "display_data"
    },
    {
     "data": {
      "image/png": "[encoded data removed]",
      "text/plain": [
       "<Figure size 432x288 with 1 Axes>"
      ]
     },
     "metadata": {
      "needs_background": "light"
     },
     "output_type": "display_data"
    },
    {
     "data": {
      "image/png": "[encoded data removed]",
      "text/plain": [
       "<Figure size 432x288 with 1 Axes>"
      ]
     },
     "metadata": {
      "needs_background": "light"
     },
     "output_type": "display_data"
    },
    {
     "data": {
      "image/png": "[encoded data removed]",
      "text/plain": [
       "<Figure size 432x288 with 1 Axes>"
      ]
     },
     "metadata": {
      "needs_background": "light"
     },
     "output_type": "display_data"
    },
    {
     "data": {
      "image/png": "[encoded data removed]",
      "text/plain": [
       "<Figure size 432x288 with 1 Axes>"
      ]
     },
     "metadata": {
      "needs_background": "light"
     },
     "output_type": "display_data"
    },
    {
     "data": {
      "image/png": "[encoded data removed]",
      "text/plain": [
       "<Figure size 432x288 with 1 Axes>"
      ]
     },
     "metadata": {
      "needs_background": "light"
     },
     "output_type": "display_data"
    },
    {
     "data": {
      "image/png": "[encoded data removed]",
      "text/plain": [
       "<Figure size 432x288 with 1 Axes>"
      ]
     },
     "metadata": {
      "needs_background": "light"
     },
     "output_type": "display_data"
    },
    {
     "data": {
      "image/png": "[encoded data removed]",
      "text/plain": [
       "<Figure size 432x288 with 1 Axes>"
      ]
     },
     "metadata": {
      "needs_background": "light"
     },
     "output_type": "display_data"
    },
    {
     "data": {
      "image/png": "[encoded data removed]",
      "text/plain": [
       "<Figure size 432x288 with 1 Axes>"
      ]
     },
     "metadata": {
      "needs_background": "light"
     },
     "output_type": "display_data"
    },
    {
     "data": {
      "image/png": "[encoded data removed]",
      "text/plain": [
       "<Figure size 432x288 with 1 Axes>"
      ]
     },
     "metadata": {
      "needs_background": "light"
     },
     "output_type": "display_data"
    },
    {
     "data": {
      "image/png": "[encoded data removed]",
      "text/plain": [
       "<Figure size 432x288 with 1 Axes>"
      ]
     },
     "metadata": {
      "needs_background": "light"
     },
     "output_type": "display_data"
    },
    {
     "data": {
      "image/png": "[encoded data removed]",
      "text/plain": [
       "<Figure size 432x288 with 1 Axes>"
      ]
     },
     "metadata": {
      "needs_background": "light"
     },
     "output_type": "display_data"
    },
    {
     "data": {
      "image/png": "[encoded data removed]",
      "text/plain": [
       "<Figure size 432x288 with 1 Axes>"
      ]
     },
     "metadata": {
      "needs_background": "light"
     },
     "output_type": "display_data"
    },
    {
     "data": {
      "image/png": "[encoded data removed]",
      "text/plain": [
       "<Figure size 432x288 with 1 Axes>"
      ]
     },
     "metadata": {
      "needs_background": "light"
     },
     "output_type": "display_data"
    },
    {
     "data": {
      "image/png": "[encoded data removed]",
      "text/plain": [
       "<Figure size 432x288 with 1 Axes>"
      ]
     },
     "metadata": {
      "needs_background": "light"
     },
     "output_type": "display_data"
    }
   ],
   "source": [
    "#There are no duplicated values\n",
    "\n",
    "#Using Boxplots, check for outliers in each in each float or integer value column.\n",
    "outliers = ['CaseOrder', 'Zip', 'Lat', 'Lng', 'Population', 'Children', 'Age', 'Income', 'Outage_sec_perweek', 'Email', 'Contacts', 'Yearly_equip_failure', 'Tenure', 'MonthlyCharge', 'Bandwidth_GB_Year', 'Item1', 'Item2', 'Item3', 'Item4', 'Item5', 'Item6', 'Item7', 'Item8']\n",
    "\n",
    "i=0 \n",
    "while i < len(outliers):\n",
    "    sns.boxplot(x = outliers[i], data = df)\n",
    "    plt.show()\n",
    "    i = i + 1\n",
    "#(Python - Loop Lists, 2022)"
   ]
  },
  {
   "cell_type": "code",
   "execution_count": 149,
   "id": "2e40c954",
   "metadata": {},
   "outputs": [
    {
     "data": {
      "text/plain": [
       "count    10000.000000\n",
       "mean        38.757567\n",
       "std          5.437389\n",
       "min         17.966120\n",
       "25%         35.341828\n",
       "50%         39.395800\n",
       "75%         42.106908\n",
       "max         70.640660\n",
       "Name: Lat, dtype: float64"
      ]
     },
     "execution_count": 149,
     "metadata": {},
     "output_type": "execute_result"
    }
   ],
   "source": [
    "#Outliers found in Lat, Lng, Population, Children, Income, Outage_sec_perweek, Email, Contacts, Yearly_equip_failure, Item1, Item2, Item3, Item4, Item5, Item6, Item7, & Item8 columns. \n",
    "\n",
    "#Treating outliers: \n",
    "df['Lat'].describe()"
   ]
  },
  {
   "cell_type": "code",
   "execution_count": 150,
   "id": "8e87c052",
   "metadata": {},
   "outputs": [
    {
     "data": {
      "text/plain": [
       "count    10000.000000\n",
       "mean       -90.782536\n",
       "std         15.156142\n",
       "min       -171.688150\n",
       "25%        -97.082812\n",
       "50%        -87.918800\n",
       "75%        -80.088745\n",
       "max        -65.667850\n",
       "Name: Lng, dtype: float64"
      ]
     },
     "execution_count": 150,
     "metadata": {},
     "output_type": "execute_result"
    }
   ],
   "source": [
    "#Retain outliers in Lat (Incuding US territories, the min and max are within a valid range) (Bathman, 2018)\n",
    "df['Lng'].describe()"
   ]
  },
  {
   "cell_type": "code",
   "execution_count": 151,
   "id": "019aec9c",
   "metadata": {},
   "outputs": [
    {
     "name": "stdout",
     "output_type": "stream",
     "text": [
      "count     10000.000000\n",
      "mean       9756.562400\n",
      "std       14432.698671\n",
      "min           0.000000\n",
      "25%         738.000000\n",
      "50%        2910.500000\n",
      "75%       13168.000000\n",
      "max      111850.000000\n",
      "Name: Population, dtype: float64\n"
     ]
    }
   ],
   "source": [
    "#Retain outliers in Lng (Incuding US territories, the min and max are within a valid range) (Bathman, 2018)\n",
    "print(df['Population'].describe())"
   ]
  },
  {
   "cell_type": "code",
   "execution_count": 152,
   "id": "31a4b5cb",
   "metadata": {},
   "outputs": [
    {
     "name": "stdout",
     "output_type": "stream",
     "text": [
      "count    10000.000000\n",
      "mean      4949.264200\n",
      "std       6338.293875\n",
      "min          0.000000\n",
      "25%        738.000000\n",
      "50%       2910.500000\n",
      "75%       5943.000000\n",
      "max      26999.000000\n",
      "Name: Population, dtype: float64\n"
     ]
    }
   ],
   "source": [
    "#Replace outlier population values > 27,000 \n",
    "#New York City, NY, has the most density population in the US. In New York the max population density is a little over 27,000 per square mile. Therefore the right skewed outliers are likely entry errors. (Planning-Population-NYC Population Facts, n.d.)\n",
    "df['Population'] = np.where(df['Population'] >= 27000, 2931, df['Population'])\n",
    "print(df['Population'].describe())"
   ]
  },
  {
   "cell_type": "code",
   "execution_count": 153,
   "id": "8d8b7990",
   "metadata": {},
   "outputs": [
    {
     "data": {
      "image/png": "[encoded data removed]",
      "text/plain": [
       "<Figure size 432x288 with 1 Axes>"
      ]
     },
     "metadata": {
      "needs_background": "light"
     },
     "output_type": "display_data"
    }
   ],
   "source": [
    "#Check distribution of population data. \n",
    "Population_boxplot = sns.boxplot(x = \"Population\", data = df).set_title(\"Population\")\n",
    "plt.show()"
   ]
  },
  {
   "cell_type": "code",
   "execution_count": 154,
   "id": "3e4d4b90",
   "metadata": {},
   "outputs": [
    {
     "name": "stdout",
     "output_type": "stream",
     "text": [
      "count     10000.000000\n",
      "mean      39806.926771\n",
      "std       28199.916702\n",
      "min         348.670000\n",
      "25%       19224.717500\n",
      "50%       33170.605000\n",
      "75%       53246.170000\n",
      "max      258900.700000\n",
      "Name: Income, dtype: float64\n"
     ]
    }
   ],
   "source": [
    "#Retain outliers in Children (All values are possible children values)\n",
    "#Check that the max income is within a reasonable range\n",
    "print(df['Income'].describe())"
   ]
  },
  {
   "cell_type": "code",
   "execution_count": 155,
   "id": "ac73ed8d",
   "metadata": {},
   "outputs": [
    {
     "name": "stdout",
     "output_type": "stream",
     "text": [
      "count    10000.000000\n",
      "mean        10.001848\n",
      "std          2.976019\n",
      "min          0.099747\n",
      "25%          8.018214\n",
      "50%         10.018560\n",
      "75%         11.969485\n",
      "max         21.207230\n",
      "Name: Outage_sec_perweek, dtype: float64\n"
     ]
    }
   ],
   "source": [
    "#Retain outliers in income (All values are possible income values)\n",
    "#Check that the max and min outage_sec_perweek is within a reasonable range\n",
    "print(df['Outage_sec_perweek'].describe())"
   ]
  },
  {
   "cell_type": "code",
   "execution_count": 156,
   "id": "4e22119c",
   "metadata": {},
   "outputs": [
    {
     "name": "stdout",
     "output_type": "stream",
     "text": [
      "count    10000.000000\n",
      "mean       172.624816\n",
      "std         42.943094\n",
      "min         79.978860\n",
      "25%        139.979239\n",
      "50%        167.484700\n",
      "75%        200.734725\n",
      "max        290.160419\n",
      "Name: MonthlyCharge, dtype: float64\n"
     ]
    }
   ],
   "source": [
    "#Retain outliers in outage_sec_perweek (All values are possible outage values)\n",
    "#Retain outliers in Email (All values are possible email values)\n",
    "#Retain outliers in Contacts (All values are possible contact values)\n",
    "#Retain outliers in Yearly_equip_failure (All values are possible equipment failure values)\n",
    "#Check that the MonthlyCharge income is within a reasonable range\n",
    "print(df['MonthlyCharge'].describe())"
   ]
  },
  {
   "cell_type": "code",
   "execution_count": 157,
   "id": "1e2ea93e",
   "metadata": {},
   "outputs": [],
   "source": [
    "#Retain outliers in MonthlyCharge (All values are possible monthly charge values)\n",
    "#Retain outliers in all item answers (All values are possible values for each item answer)"
   ]
  },
  {
   "cell_type": "code",
   "execution_count": 158,
   "id": "d887b165",
   "metadata": {},
   "outputs": [],
   "source": [
    "#Drop Columns not used as Target or Explanatory Variables \n",
    "df.drop(['Customer_id', 'Interaction', 'UID', 'City', 'State', 'County', 'Zip', 'Lat', 'Lng', 'TimeZone', 'Job', 'Children', 'Age', 'Marital', 'Gender', 'Techie', 'Port_modem', 'Tablet', 'InternetService', 'OnlineSecurity', 'PaperlessBilling', 'PaymentMethod', 'Item1', 'Item2', 'Item3', 'Item4', 'Item5', 'Item6', 'Item7', 'Item8'], axis = 1, inplace = True)"
   ]
  },
  {
   "cell_type": "code",
   "execution_count": 159,
   "id": "954668fc",
   "metadata": {},
   "outputs": [
    {
     "name": "stdout",
     "output_type": "stream",
     "text": [
      " \n",
      "Population Descriptive Statistics\n",
      "count    10000.000000\n",
      "mean      4949.264200\n",
      "std       6338.293875\n",
      "min          0.000000\n",
      "25%        738.000000\n",
      "50%       2910.500000\n",
      "75%       5943.000000\n",
      "max      26999.000000\n",
      "Name: Population, dtype: float64\n",
      " \n",
      "Area Descriptive Statistics\n",
      "count        10000\n",
      "unique           3\n",
      "top       Suburban\n",
      "freq          3346\n",
      "Name: Area, dtype: object\n",
      " \n",
      "Income Descriptive Statistics\n",
      "count     10000.000000\n",
      "mean      39806.926771\n",
      "std       28199.916702\n",
      "min         348.670000\n",
      "25%       19224.717500\n",
      "50%       33170.605000\n",
      "75%       53246.170000\n",
      "max      258900.700000\n",
      "Name: Income, dtype: float64\n",
      " \n",
      "Churn Descriptive Statistics\n",
      "count     10000\n",
      "unique        2\n",
      "top          No\n",
      "freq       7350\n",
      "Name: Churn, dtype: object\n",
      " \n",
      "Outage_sec_perweek Descriptive Statistics\n",
      "count    10000.000000\n",
      "mean        10.001848\n",
      "std          2.976019\n",
      "min          0.099747\n",
      "25%          8.018214\n",
      "50%         10.018560\n",
      "75%         11.969485\n",
      "max         21.207230\n",
      "Name: Outage_sec_perweek, dtype: float64\n",
      " \n",
      "Email Descriptive Statistics\n",
      "count    10000.000000\n",
      "mean        12.016000\n",
      "std          3.025898\n",
      "min          1.000000\n",
      "25%         10.000000\n",
      "50%         12.000000\n",
      "75%         14.000000\n",
      "max         23.000000\n",
      "Name: Email, dtype: float64\n",
      " \n",
      "Contacts Descriptive Statistics\n",
      "count    10000.000000\n",
      "mean         0.994200\n",
      "std          0.988466\n",
      "min          0.000000\n",
      "25%          0.000000\n",
      "50%          1.000000\n",
      "75%          2.000000\n",
      "max          7.000000\n",
      "Name: Contacts, dtype: float64\n",
      " \n",
      "Yearly_equip_failure Descriptive Statistics\n",
      "count    10000.000000\n",
      "mean         0.398000\n",
      "std          0.635953\n",
      "min          0.000000\n",
      "25%          0.000000\n",
      "50%          0.000000\n",
      "75%          1.000000\n",
      "max          6.000000\n",
      "Name: Yearly_equip_failure, dtype: float64\n",
      " \n",
      "Contract Descriptive Statistics\n",
      "count              10000\n",
      "unique                 3\n",
      "top       Month-to-month\n",
      "freq                5456\n",
      "Name: Contract, dtype: object\n",
      " \n",
      "Phone Descriptive Statistics\n",
      "count     10000\n",
      "unique        2\n",
      "top         Yes\n",
      "freq       9067\n",
      "Name: Phone, dtype: object\n",
      " \n",
      "Multiple Descriptive Statistics\n",
      "count     10000\n",
      "unique        2\n",
      "top          No\n",
      "freq       5392\n",
      "Name: Multiple, dtype: object\n",
      " \n",
      "OnlineBackup Descriptive Statistics\n",
      "count     10000\n",
      "unique        2\n",
      "top          No\n",
      "freq       5494\n",
      "Name: OnlineBackup, dtype: object\n",
      " \n",
      "DeviceProtection Descriptive Statistics\n",
      "count     10000\n",
      "unique        2\n",
      "top          No\n",
      "freq       5614\n",
      "Name: DeviceProtection, dtype: object\n",
      " \n",
      "TechSupport Descriptive Statistics\n",
      "count     10000\n",
      "unique        2\n",
      "top          No\n",
      "freq       6250\n",
      "Name: TechSupport, dtype: object\n",
      " \n",
      "StreamingTV Descriptive Statistics\n",
      "count     10000\n",
      "unique        2\n",
      "top          No\n",
      "freq       5071\n",
      "Name: StreamingTV, dtype: object\n",
      " \n",
      "StreamingMovies Descriptive Statistics\n",
      "count     10000\n",
      "unique        2\n",
      "top          No\n",
      "freq       5110\n",
      "Name: StreamingMovies, dtype: object\n",
      " \n",
      "Tenure Descriptive Statistics\n",
      "count    10000.000000\n",
      "mean        34.526188\n",
      "std         26.443063\n",
      "min          1.000259\n",
      "25%          7.917694\n",
      "50%         35.430507\n",
      "75%         61.479795\n",
      "max         71.999280\n",
      "Name: Tenure, dtype: float64\n",
      " \n",
      "MonthlyCharge Descriptive Statistics\n",
      "count    10000.000000\n",
      "mean       172.624816\n",
      "std         42.943094\n",
      "min         79.978860\n",
      "25%        139.979239\n",
      "50%        167.484700\n",
      "75%        200.734725\n",
      "max        290.160419\n",
      "Name: MonthlyCharge, dtype: float64\n",
      " \n",
      "Bandwidth_GB_Year Descriptive Statistics\n",
      "count    10000.000000\n",
      "mean      3392.341550\n",
      "std       2185.294852\n",
      "min        155.506715\n",
      "25%       1236.470827\n",
      "50%       3279.536903\n",
      "75%       5586.141370\n",
      "max       7158.981530\n",
      "Name: Bandwidth_GB_Year, dtype: float64\n"
     ]
    }
   ],
   "source": [
    "#Descriptive Statistics for all relevant variables\n",
    "relevant_variables = [df['Population'], df['Area'], df['Income'], df['Churn'], df['Outage_sec_perweek'], df['Email'], df['Contacts'], df['Yearly_equip_failure'], df['Contract'], df['Phone'], df['Multiple'], df['OnlineBackup'], df['DeviceProtection'], df['TechSupport'], df['StreamingTV'], df['StreamingMovies'], df['Tenure'], df['MonthlyCharge'], df['Bandwidth_GB_Year']]\n",
    "rv = ['Population', 'Area', 'Income', 'Churn', 'Outage_sec_perweek', 'Email', 'Contacts', 'Yearly_equip_failure', 'Contract', 'Phone', 'Multiple', 'OnlineBackup', 'DeviceProtection', 'TechSupport', 'StreamingTV', 'StreamingMovies', 'Tenure', 'MonthlyCharge', 'Bandwidth_GB_Year']\n",
    "\n",
    "i=0 \n",
    "while i < len(relevant_variables):\n",
    "    print(' ')\n",
    "    print(str(rv[i]) + ' Descriptive Statistics')\n",
    "    print(relevant_variables[i]. describe())\n",
    "    i = i + 1\n",
    "    #(Python - Loop Lists, 2022)"
   ]
  },
  {
   "cell_type": "code",
   "execution_count": 160,
   "id": "a259156b",
   "metadata": {},
   "outputs": [],
   "source": [
    "#Re-expressing Categorical Variables\n",
    "#label encoding yes/no dichotomous binary columns. Yes = 1, No = 0\n",
    "labelencoder = LabelEncoder()\n",
    "df['Churn'] = labelencoder.fit_transform(df['Churn'])\n",
    "df['Phone'] = labelencoder.fit_transform(df['Phone'])\n",
    "df['Multiple'] = labelencoder.fit_transform(df['Multiple'])\n",
    "df['OnlineBackup'] = labelencoder.fit_transform(df['OnlineBackup'])\n",
    "df['DeviceProtection'] = labelencoder.fit_transform(df['DeviceProtection'])\n",
    "df['TechSupport'] = labelencoder.fit_transform(df['TechSupport'])\n",
    "df['StreamingTV'] = labelencoder.fit_transform(df['StreamingTV'])\n",
    "df['StreamingMovies'] = labelencoder.fit_transform(df['StreamingMovies'])\n",
    "#(Great Learning Team, 2022)"
   ]
  },
  {
   "cell_type": "code",
   "execution_count": 161,
   "id": "66ce7637",
   "metadata": {},
   "outputs": [],
   "source": [
    "#Ordinal Encoding\n",
    "df['Contract_numeric'] = df['Contract'] \n",
    "dict_edu = {'Contract_numeric': {'Month-to-month': 0, 'One year': 1, 'Two Year': 2}}\n",
    "df.replace(dict_edu, inplace = True)\n",
    "#(Middleton, 2022)"
   ]
  },
  {
   "cell_type": "code",
   "execution_count": 162,
   "id": "37fb0e95",
   "metadata": {},
   "outputs": [],
   "source": [
    "#One-Hot Encoding \n",
    "dummy_area = pd.get_dummies(df['Area'], prefix='Area', drop_first=True)\n",
    "\n",
    "df = pd.merge(\n",
    "    left=df,\n",
    "    right=dummy_area,\n",
    "    left_index=True,\n",
    "    right_index=True,\n",
    ")\n",
    "#(Pandas Get Dummies (One-Hot Encoding) Explained, 2021)"
   ]
  },
  {
   "cell_type": "code",
   "execution_count": 163,
   "id": "396acebe",
   "metadata": {},
   "outputs": [
    {
     "data": {
      "text/plain": [
       "array([[<AxesSubplot:title={'center':'Population'}>,\n",
       "        <AxesSubplot:title={'center':'Area_Suburban'}>,\n",
       "        <AxesSubplot:title={'center':'Area_Urban'}>,\n",
       "        <AxesSubplot:title={'center':'Income'}>],\n",
       "       [<AxesSubplot:title={'center':'Churn'}>,\n",
       "        <AxesSubplot:title={'center':'Outage_sec_perweek'}>,\n",
       "        <AxesSubplot:title={'center':'Email'}>,\n",
       "        <AxesSubplot:title={'center':'Contacts'}>],\n",
       "       [<AxesSubplot:title={'center':'Yearly_equip_failure'}>,\n",
       "        <AxesSubplot:title={'center':'Phone'}>,\n",
       "        <AxesSubplot:title={'center':'Multiple'}>,\n",
       "        <AxesSubplot:title={'center':'OnlineBackup'}>],\n",
       "       [<AxesSubplot:title={'center':'DeviceProtection'}>,\n",
       "        <AxesSubplot:title={'center':'TechSupport'}>,\n",
       "        <AxesSubplot:title={'center':'StreamingTV'}>,\n",
       "        <AxesSubplot:title={'center':'StreamingMovies'}>],\n",
       "       [<AxesSubplot:title={'center':'Tenure'}>,\n",
       "        <AxesSubplot:title={'center':'MonthlyCharge'}>,\n",
       "        <AxesSubplot:title={'center':'Bandwidth_GB_Year'}>,\n",
       "        <AxesSubplot:>]], dtype=object)"
      ]
     },
     "execution_count": 163,
     "metadata": {},
     "output_type": "execute_result"
    },
    {
     "data": {
      "image/png": "[encoded data removed]",
      "text/plain": [
       "<Figure size 2160x2160 with 20 Axes>"
      ]
     },
     "metadata": {
      "needs_background": "light"
     },
     "output_type": "display_data"
    }
   ],
   "source": [
    "#Visually explore target & explanatory variables with univariate analysis by creating histograms \n",
    "df.hist(column=['Population', 'Area_Suburban', 'Area_Urban', 'Income', 'Churn', 'Outage_sec_perweek', 'Email', 'Contacts', 'Yearly_equip_failure', 'Contract', 'Phone', 'Multiple', 'OnlineBackup', 'DeviceProtection', 'TechSupport', 'StreamingTV', 'StreamingMovies', 'Tenure', 'MonthlyCharge', 'Bandwidth_GB_Year'], figsize=(30,30))\n"
   ]
  },
  {
   "cell_type": "code",
   "execution_count": 180,
   "id": "174cf042",
   "metadata": {},
   "outputs": [
    {
     "data": {
      "image/png": "[encoded data removed]",
      "text/plain": [
       "<Figure size 432x288 with 1 Axes>"
      ]
     },
     "metadata": {
      "needs_background": "light"
     },
     "output_type": "display_data"
    },
    {
     "data": {
      "image/png": "[encoded data removed]",
      "text/plain": [
       "<Figure size 432x288 with 1 Axes>"
      ]
     },
     "metadata": {
      "needs_background": "light"
     },
     "output_type": "display_data"
    },
    {
     "data": {
      "image/png": "[encoded data removed]",
      "text/plain": [
       "<Figure size 432x288 with 1 Axes>"
      ]
     },
     "metadata": {
      "needs_background": "light"
     },
     "output_type": "display_data"
    },
    {
     "data": {
      "image/png": "[encoded data removed]",
      "text/plain": [
       "<Figure size 432x288 with 1 Axes>"
      ]
     },
     "metadata": {
      "needs_background": "light"
     },
     "output_type": "display_data"
    },
    {
     "data": {
      "image/png": "[encoded data removed]",
      "text/plain": [
       "<Figure size 432x288 with 1 Axes>"
      ]
     },
     "metadata": {
      "needs_background": "light"
     },
     "output_type": "display_data"
    },
    {
     "data": {
      "image/png": "[encoded data removed]",
      "text/plain": [
       "<Figure size 432x288 with 1 Axes>"
      ]
     },
     "metadata": {
      "needs_background": "light"
     },
     "output_type": "display_data"
    },
    {
     "data": {
      "image/png": "[encoded data removed]",
      "text/plain": [
       "<Figure size 432x288 with 1 Axes>"
      ]
     },
     "metadata": {
      "needs_background": "light"
     },
     "output_type": "display_data"
    },
    {
     "data": {
      "image/png": "[encoded data removed]",
      "text/plain": [
       "<Figure size 432x288 with 1 Axes>"
      ]
     },
     "metadata": {
      "needs_background": "light"
     },
     "output_type": "display_data"
    },
    {
     "data": {
      "image/png": "[encoded data removed]",
      "text/plain": [
       "<Figure size 432x288 with 1 Axes>"
      ]
     },
     "metadata": {
      "needs_background": "light"
     },
     "output_type": "display_data"
    },
    {
     "data": {
      "image/png": "[encoded data removed]",
      "text/plain": [
       "<Figure size 432x288 with 1 Axes>"
      ]
     },
     "metadata": {
      "needs_background": "light"
     },
     "output_type": "display_data"
    },
    {
     "data": {
      "image/png": "[encoded data removed]",
      "text/plain": [
       "<Figure size 432x288 with 1 Axes>"
      ]
     },
     "metadata": {
      "needs_background": "light"
     },
     "output_type": "display_data"
    },
    {
     "data": {
      "image/png": "[encoded data removed]",
      "text/plain": [
       "<Figure size 432x288 with 1 Axes>"
      ]
     },
     "metadata": {
      "needs_background": "light"
     },
     "output_type": "display_data"
    },
    {
     "data": {
      "image/png": "[encoded data removed]",
      "text/plain": [
       "<Figure size 432x288 with 1 Axes>"
      ]
     },
     "metadata": {
      "needs_background": "light"
     },
     "output_type": "display_data"
    },
    {
     "data": {
      "image/png": "[encoded data removed]",
      "text/plain": [
       "<Figure size 432x288 with 1 Axes>"
      ]
     },
     "metadata": {
      "needs_background": "light"
     },
     "output_type": "display_data"
    },
    {
     "data": {
      "image/png": "[encoded data removed]",
      "text/plain": [
       "<Figure size 432x288 with 1 Axes>"
      ]
     },
     "metadata": {
      "needs_background": "light"
     },
     "output_type": "display_data"
    },
    {
     "data": {
      "image/png": "[encoded data removed]",
      "text/plain": [
       "<Figure size 432x288 with 1 Axes>"
      ]
     },
     "metadata": {
      "needs_background": "light"
     },
     "output_type": "display_data"
    },
    {
     "data": {
      "image/png": "[encoded data removed]",
      "text/plain": [
       "<Figure size 432x288 with 1 Axes>"
      ]
     },
     "metadata": {
      "needs_background": "light"
     },
     "output_type": "display_data"
    },
    {
     "data": {
      "image/png": "[encoded data removed]",
      "text/plain": [
       "<Figure size 432x288 with 1 Axes>"
      ]
     },
     "metadata": {
      "needs_background": "light"
     },
     "output_type": "display_data"
    },
    {
     "data": {
      "image/png": "[encoded data removed]",
      "text/plain": [
       "<Figure size 432x288 with 1 Axes>"
      ]
     },
     "metadata": {
      "needs_background": "light"
     },
     "output_type": "display_data"
    }
   ],
   "source": [
    "#Visually explore relationship between target and explanatory variables with bivariate analysis by creating scatterplots\n",
    "nv = ['Population', 'Area_Suburban', 'Area_Urban', 'Income', 'Outage_sec_perweek', 'Email', 'Contacts', 'Yearly_equip_failure', 'Contract_numeric', 'Phone', 'Multiple', 'OnlineBackup', 'DeviceProtection', 'TechSupport', 'StreamingTV', 'StreamingMovies', 'Tenure', 'MonthlyCharge', 'Bandwidth_GB_Year']\n",
    "\n",
    "i=0 \n",
    "while i < len(nv):\n",
    "    plt.scatter(df['Churn'], df[nv[i]])\n",
    "    plt.title(str(nv[i]) + ' vs Chun')\n",
    "    plt.show()\n",
    "    i = i + 1\n",
    "#(Python - Loop Lists, 2022)"
   ]
  },
  {
   "cell_type": "code",
   "execution_count": 165,
   "id": "2634e5c9",
   "metadata": {},
   "outputs": [],
   "source": [
    "df.to_csv('/Users/Amanda.Hartzler/Desktop/D208_PA_Task2.csv')"
   ]
  },
  {
   "cell_type": "markdown",
   "id": "732611ba",
   "metadata": {},
   "source": [
    "# Logistic Regression "
   ]
  },
  {
   "cell_type": "code",
   "execution_count": 166,
   "id": "2f0c62de",
   "metadata": {},
   "outputs": [
    {
     "name": "stdout",
     "output_type": "stream",
     "text": [
      "Optimization terminated successfully.\n",
      "         Current function value: 0.242277\n",
      "         Iterations 8\n"
     ]
    },
    {
     "data": {
      "text/html": [
       "<table class=\"simpletable\">\n",
       "<caption>Logit Regression Results</caption>\n",
       "<tr>\n",
       "  <th>Dep. Variable:</th>         <td>Churn</td>      <th>  No. Observations:  </th>  <td> 10000</td> \n",
       "</tr>\n",
       "<tr>\n",
       "  <th>Model:</th>                 <td>Logit</td>      <th>  Df Residuals:      </th>  <td>  9980</td> \n",
       "</tr>\n",
       "<tr>\n",
       "  <th>Method:</th>                 <td>MLE</td>       <th>  Df Model:          </th>  <td>    19</td> \n",
       "</tr>\n",
       "<tr>\n",
       "  <th>Date:</th>            <td>Sat, 25 Jun 2022</td> <th>  Pseudo R-squ.:     </th>  <td>0.5810</td> \n",
       "</tr>\n",
       "<tr>\n",
       "  <th>Time:</th>                <td>18:06:16</td>     <th>  Log-Likelihood:    </th> <td> -2422.8</td>\n",
       "</tr>\n",
       "<tr>\n",
       "  <th>converged:</th>             <td>True</td>       <th>  LL-Null:           </th> <td> -5782.2</td>\n",
       "</tr>\n",
       "<tr>\n",
       "  <th>Covariance Type:</th>     <td>nonrobust</td>    <th>  LLR p-value:       </th>  <td> 0.000</td> \n",
       "</tr>\n",
       "</table>\n",
       "<table class=\"simpletable\">\n",
       "<tr>\n",
       "            <td></td>              <th>coef</th>     <th>std err</th>      <th>z</th>      <th>P>|z|</th>  <th>[0.025</th>    <th>0.975]</th>  \n",
       "</tr>\n",
       "<tr>\n",
       "  <th>Intercept</th>            <td>   -3.3134</td> <td>    0.345</td> <td>   -9.616</td> <td> 0.000</td> <td>   -3.989</td> <td>   -2.638</td>\n",
       "</tr>\n",
       "<tr>\n",
       "  <th>Population</th>           <td> 1.601e-06</td> <td>  5.7e-06</td> <td>    0.281</td> <td> 0.779</td> <td>-9.56e-06</td> <td> 1.28e-05</td>\n",
       "</tr>\n",
       "<tr>\n",
       "  <th>Area_Suburban</th>        <td>   -0.0745</td> <td>    0.090</td> <td>   -0.828</td> <td> 0.408</td> <td>   -0.251</td> <td>    0.102</td>\n",
       "</tr>\n",
       "<tr>\n",
       "  <th>Area_Urban</th>           <td>    0.0350</td> <td>    0.089</td> <td>    0.393</td> <td> 0.694</td> <td>   -0.140</td> <td>    0.210</td>\n",
       "</tr>\n",
       "<tr>\n",
       "  <th>Income</th>               <td> 4.147e-07</td> <td>  1.3e-06</td> <td>    0.320</td> <td> 0.749</td> <td>-2.13e-06</td> <td> 2.96e-06</td>\n",
       "</tr>\n",
       "<tr>\n",
       "  <th>Outage_sec_perweek</th>   <td>   -0.0011</td> <td>    0.012</td> <td>   -0.090</td> <td> 0.928</td> <td>   -0.025</td> <td>    0.023</td>\n",
       "</tr>\n",
       "<tr>\n",
       "  <th>Email</th>                <td>   -0.0046</td> <td>    0.012</td> <td>   -0.385</td> <td> 0.700</td> <td>   -0.028</td> <td>    0.019</td>\n",
       "</tr>\n",
       "<tr>\n",
       "  <th>Contacts</th>             <td>    0.0547</td> <td>    0.037</td> <td>    1.490</td> <td> 0.136</td> <td>   -0.017</td> <td>    0.127</td>\n",
       "</tr>\n",
       "<tr>\n",
       "  <th>Yearly_equip_failure</th> <td>   -0.0383</td> <td>    0.058</td> <td>   -0.666</td> <td> 0.505</td> <td>   -0.151</td> <td>    0.074</td>\n",
       "</tr>\n",
       "<tr>\n",
       "  <th>Contract_numeric</th>     <td>   -1.8345</td> <td>    0.060</td> <td>  -30.445</td> <td> 0.000</td> <td>   -1.953</td> <td>   -1.716</td>\n",
       "</tr>\n",
       "<tr>\n",
       "  <th>Phone</th>                <td>   -0.2873</td> <td>    0.124</td> <td>   -2.314</td> <td> 0.021</td> <td>   -0.531</td> <td>   -0.044</td>\n",
       "</tr>\n",
       "<tr>\n",
       "  <th>Multiple</th>             <td>    1.0401</td> <td>    0.113</td> <td>    9.223</td> <td> 0.000</td> <td>    0.819</td> <td>    1.261</td>\n",
       "</tr>\n",
       "<tr>\n",
       "  <th>OnlineBackup</th>         <td>    0.3019</td> <td>    0.095</td> <td>    3.195</td> <td> 0.001</td> <td>    0.117</td> <td>    0.487</td>\n",
       "</tr>\n",
       "<tr>\n",
       "  <th>DeviceProtection</th>     <td>    0.0540</td> <td>    0.081</td> <td>    0.664</td> <td> 0.507</td> <td>   -0.105</td> <td>    0.213</td>\n",
       "</tr>\n",
       "<tr>\n",
       "  <th>TechSupport</th>          <td>    0.1771</td> <td>    0.081</td> <td>    2.189</td> <td> 0.029</td> <td>    0.019</td> <td>    0.336</td>\n",
       "</tr>\n",
       "<tr>\n",
       "  <th>StreamingTV</th>          <td>    1.7115</td> <td>    0.143</td> <td>   11.995</td> <td> 0.000</td> <td>    1.432</td> <td>    1.991</td>\n",
       "</tr>\n",
       "<tr>\n",
       "  <th>StreamingMovies</th>      <td>    2.1568</td> <td>    0.162</td> <td>   13.284</td> <td> 0.000</td> <td>    1.839</td> <td>    2.475</td>\n",
       "</tr>\n",
       "<tr>\n",
       "  <th>Tenure</th>               <td>   -0.3128</td> <td>    0.015</td> <td>  -21.075</td> <td> 0.000</td> <td>   -0.342</td> <td>   -0.284</td>\n",
       "</tr>\n",
       "<tr>\n",
       "  <th>MonthlyCharge</th>        <td>    0.0085</td> <td>    0.002</td> <td>    3.507</td> <td> 0.000</td> <td>    0.004</td> <td>    0.013</td>\n",
       "</tr>\n",
       "<tr>\n",
       "  <th>Bandwidth_GB_Year</th>    <td>    0.0026</td> <td>    0.000</td> <td>   15.221</td> <td> 0.000</td> <td>    0.002</td> <td>    0.003</td>\n",
       "</tr>\n",
       "</table>"
      ],
      "text/plain": [
       "<class 'statsmodels.iolib.summary.Summary'>\n",
       "\"\"\"\n",
       "                           Logit Regression Results                           \n",
       "==============================================================================\n",
       "Dep. Variable:                  Churn   No. Observations:                10000\n",
       "Model:                          Logit   Df Residuals:                     9980\n",
       "Method:                           MLE   Df Model:                           19\n",
       "Date:                Sat, 25 Jun 2022   Pseudo R-squ.:                  0.5810\n",
       "Time:                        18:06:16   Log-Likelihood:                -2422.8\n",
       "converged:                       True   LL-Null:                       -5782.2\n",
       "Covariance Type:            nonrobust   LLR p-value:                     0.000\n",
       "========================================================================================\n",
       "                           coef    std err          z      P>|z|      [0.025      0.975]\n",
       "----------------------------------------------------------------------------------------\n",
       "Intercept               -3.3134      0.345     -9.616      0.000      -3.989      -2.638\n",
       "Population            1.601e-06    5.7e-06      0.281      0.779   -9.56e-06    1.28e-05\n",
       "Area_Suburban           -0.0745      0.090     -0.828      0.408      -0.251       0.102\n",
       "Area_Urban               0.0350      0.089      0.393      0.694      -0.140       0.210\n",
       "Income                4.147e-07    1.3e-06      0.320      0.749   -2.13e-06    2.96e-06\n",
       "Outage_sec_perweek      -0.0011      0.012     -0.090      0.928      -0.025       0.023\n",
       "Email                   -0.0046      0.012     -0.385      0.700      -0.028       0.019\n",
       "Contacts                 0.0547      0.037      1.490      0.136      -0.017       0.127\n",
       "Yearly_equip_failure    -0.0383      0.058     -0.666      0.505      -0.151       0.074\n",
       "Contract_numeric        -1.8345      0.060    -30.445      0.000      -1.953      -1.716\n",
       "Phone                   -0.2873      0.124     -2.314      0.021      -0.531      -0.044\n",
       "Multiple                 1.0401      0.113      9.223      0.000       0.819       1.261\n",
       "OnlineBackup             0.3019      0.095      3.195      0.001       0.117       0.487\n",
       "DeviceProtection         0.0540      0.081      0.664      0.507      -0.105       0.213\n",
       "TechSupport              0.1771      0.081      2.189      0.029       0.019       0.336\n",
       "StreamingTV              1.7115      0.143     11.995      0.000       1.432       1.991\n",
       "StreamingMovies          2.1568      0.162     13.284      0.000       1.839       2.475\n",
       "Tenure                  -0.3128      0.015    -21.075      0.000      -0.342      -0.284\n",
       "MonthlyCharge            0.0085      0.002      3.507      0.000       0.004       0.013\n",
       "Bandwidth_GB_Year        0.0026      0.000     15.221      0.000       0.002       0.003\n",
       "========================================================================================\n",
       "\"\"\""
      ]
     },
     "execution_count": 166,
     "metadata": {},
     "output_type": "execute_result"
    }
   ],
   "source": [
    "#Create original logistic regression model with all explanatory variables included.\n",
    "original_regression = logit('Churn ~ Population + Area_Suburban + Area_Urban + Income + Outage_sec_perweek + Email + Contacts + Yearly_equip_failure + Contract_numeric + Phone + Multiple + OnlineBackup + DeviceProtection + TechSupport + StreamingTV + StreamingMovies + Tenure + MonthlyCharge + Bandwidth_GB_Year', data=df).fit()\n",
    "\n",
    "#Display model summary\n",
    "original_regression.summary() #(van den Broeck, 2022)"
   ]
  },
  {
   "cell_type": "code",
   "execution_count": 167,
   "id": "bbbcac19",
   "metadata": {},
   "outputs": [
    {
     "data": {
      "text/html": [
       "<div>\n",
       "<style scoped>\n",
       "    .dataframe tbody tr th:only-of-type {\n",
       "        vertical-align: middle;\n",
       "    }\n",
       "\n",
       "    .dataframe tbody tr th {\n",
       "        vertical-align: top;\n",
       "    }\n",
       "\n",
       "    .dataframe thead th {\n",
       "        text-align: right;\n",
       "    }\n",
       "</style>\n",
       "<table border=\"1\" class=\"dataframe\">\n",
       "  <thead>\n",
       "    <tr style=\"text-align: right;\">\n",
       "      <th></th>\n",
       "      <th>Feature</th>\n",
       "      <th>VIF</th>\n",
       "    </tr>\n",
       "  </thead>\n",
       "  <tbody>\n",
       "    <tr>\n",
       "      <th>0</th>\n",
       "      <td>Population</td>\n",
       "      <td>1.600730</td>\n",
       "    </tr>\n",
       "    <tr>\n",
       "      <th>1</th>\n",
       "      <td>Area_Suburban</td>\n",
       "      <td>1.970623</td>\n",
       "    </tr>\n",
       "    <tr>\n",
       "      <th>2</th>\n",
       "      <td>Area_Urban</td>\n",
       "      <td>1.963872</td>\n",
       "    </tr>\n",
       "    <tr>\n",
       "      <th>3</th>\n",
       "      <td>Income</td>\n",
       "      <td>2.923858</td>\n",
       "    </tr>\n",
       "    <tr>\n",
       "      <th>4</th>\n",
       "      <td>Outage_sec_perweek</td>\n",
       "      <td>10.775241</td>\n",
       "    </tr>\n",
       "    <tr>\n",
       "      <th>5</th>\n",
       "      <td>Email</td>\n",
       "      <td>13.740311</td>\n",
       "    </tr>\n",
       "    <tr>\n",
       "      <th>6</th>\n",
       "      <td>Contacts</td>\n",
       "      <td>1.996393</td>\n",
       "    </tr>\n",
       "    <tr>\n",
       "      <th>7</th>\n",
       "      <td>Yearly_equip_failure</td>\n",
       "      <td>1.383971</td>\n",
       "    </tr>\n",
       "    <tr>\n",
       "      <th>8</th>\n",
       "      <td>Contract_numeric</td>\n",
       "      <td>1.693392</td>\n",
       "    </tr>\n",
       "    <tr>\n",
       "      <th>9</th>\n",
       "      <td>Phone</td>\n",
       "      <td>9.392341</td>\n",
       "    </tr>\n",
       "    <tr>\n",
       "      <th>10</th>\n",
       "      <td>Multiple</td>\n",
       "      <td>3.363305</td>\n",
       "    </tr>\n",
       "    <tr>\n",
       "      <th>11</th>\n",
       "      <td>OnlineBackup</td>\n",
       "      <td>2.635034</td>\n",
       "    </tr>\n",
       "    <tr>\n",
       "      <th>12</th>\n",
       "      <td>DeviceProtection</td>\n",
       "      <td>2.103049</td>\n",
       "    </tr>\n",
       "    <tr>\n",
       "      <th>13</th>\n",
       "      <td>TechSupport</td>\n",
       "      <td>1.788814</td>\n",
       "    </tr>\n",
       "    <tr>\n",
       "      <th>14</th>\n",
       "      <td>StreamingTV</td>\n",
       "      <td>5.022908</td>\n",
       "    </tr>\n",
       "    <tr>\n",
       "      <th>15</th>\n",
       "      <td>StreamingMovies</td>\n",
       "      <td>6.118151</td>\n",
       "    </tr>\n",
       "    <tr>\n",
       "      <th>16</th>\n",
       "      <td>Tenure</td>\n",
       "      <td>246.729255</td>\n",
       "    </tr>\n",
       "    <tr>\n",
       "      <th>17</th>\n",
       "      <td>MonthlyCharge</td>\n",
       "      <td>76.187867</td>\n",
       "    </tr>\n",
       "    <tr>\n",
       "      <th>18</th>\n",
       "      <td>Bandwidth_GB_Year</td>\n",
       "      <td>310.797442</td>\n",
       "    </tr>\n",
       "  </tbody>\n",
       "</table>\n",
       "</div>"
      ],
      "text/plain": [
       "                 Feature         VIF\n",
       "0             Population    1.600730\n",
       "1          Area_Suburban    1.970623\n",
       "2             Area_Urban    1.963872\n",
       "3                 Income    2.923858\n",
       "4     Outage_sec_perweek   10.775241\n",
       "5                  Email   13.740311\n",
       "6               Contacts    1.996393\n",
       "7   Yearly_equip_failure    1.383971\n",
       "8       Contract_numeric    1.693392\n",
       "9                  Phone    9.392341\n",
       "10              Multiple    3.363305\n",
       "11          OnlineBackup    2.635034\n",
       "12      DeviceProtection    2.103049\n",
       "13           TechSupport    1.788814\n",
       "14           StreamingTV    5.022908\n",
       "15       StreamingMovies    6.118151\n",
       "16                Tenure  246.729255\n",
       "17         MonthlyCharge   76.187867\n",
       "18     Bandwidth_GB_Year  310.797442"
      ]
     },
     "execution_count": 167,
     "metadata": {},
     "output_type": "execute_result"
    }
   ],
   "source": [
    "#Check for multicollinearity using VIF (Sewell, 2022). \n",
    "x = df[['Population', 'Area_Suburban', 'Area_Urban', 'Income', 'Outage_sec_perweek', 'Email', 'Contacts', 'Yearly_equip_failure', 'Contract_numeric', 'Phone', 'Multiple', 'OnlineBackup', 'DeviceProtection', 'TechSupport', 'StreamingTV', 'StreamingMovies', 'Tenure', 'MonthlyCharge', 'Bandwidth_GB_Year']]\n",
    "\n",
    "vif_data = pd.DataFrame()\n",
    "vif_data['Feature'] = x.columns\n",
    "\n",
    "vif_data['VIF'] = [variance_inflation_factor(x.values, i)\n",
    "for i in range(len(x.columns))]\n",
    "#(Sewell, 2022)\n",
    "vif_data"
   ]
  },
  {
   "cell_type": "code",
   "execution_count": 168,
   "id": "a56a43f2",
   "metadata": {},
   "outputs": [
    {
     "name": "stdout",
     "output_type": "stream",
     "text": [
      "Optimization terminated successfully.\n",
      "         Current function value: 0.447304\n",
      "         Iterations 7\n"
     ]
    },
    {
     "data": {
      "text/html": [
       "<table class=\"simpletable\">\n",
       "<caption>Logit Regression Results</caption>\n",
       "<tr>\n",
       "  <th>Dep. Variable:</th>         <td>Churn</td>      <th>  No. Observations:  </th>  <td> 10000</td> \n",
       "</tr>\n",
       "<tr>\n",
       "  <th>Model:</th>                 <td>Logit</td>      <th>  Df Residuals:      </th>  <td>  9985</td> \n",
       "</tr>\n",
       "<tr>\n",
       "  <th>Method:</th>                 <td>MLE</td>       <th>  Df Model:          </th>  <td>    14</td> \n",
       "</tr>\n",
       "<tr>\n",
       "  <th>Date:</th>            <td>Sat, 25 Jun 2022</td> <th>  Pseudo R-squ.:     </th>  <td>0.2264</td> \n",
       "</tr>\n",
       "<tr>\n",
       "  <th>Time:</th>                <td>18:06:16</td>     <th>  Log-Likelihood:    </th> <td> -4473.0</td>\n",
       "</tr>\n",
       "<tr>\n",
       "  <th>converged:</th>             <td>True</td>       <th>  LL-Null:           </th> <td> -5782.2</td>\n",
       "</tr>\n",
       "<tr>\n",
       "  <th>Covariance Type:</th>     <td>nonrobust</td>    <th>  LLR p-value:       </th>  <td> 0.000</td> \n",
       "</tr>\n",
       "</table>\n",
       "<table class=\"simpletable\">\n",
       "<tr>\n",
       "            <td></td>              <th>coef</th>     <th>std err</th>      <th>z</th>      <th>P>|z|</th>  <th>[0.025</th>    <th>0.975]</th>  \n",
       "</tr>\n",
       "<tr>\n",
       "  <th>Intercept</th>            <td>   -2.8872</td> <td>    0.131</td> <td>  -22.092</td> <td> 0.000</td> <td>   -3.143</td> <td>   -2.631</td>\n",
       "</tr>\n",
       "<tr>\n",
       "  <th>Population</th>           <td> 6.199e-07</td> <td> 4.15e-06</td> <td>    0.149</td> <td> 0.881</td> <td>-7.51e-06</td> <td> 8.75e-06</td>\n",
       "</tr>\n",
       "<tr>\n",
       "  <th>Area_Suburban</th>        <td>   -0.0195</td> <td>    0.065</td> <td>   -0.302</td> <td> 0.763</td> <td>   -0.146</td> <td>    0.107</td>\n",
       "</tr>\n",
       "<tr>\n",
       "  <th>Area_Urban</th>           <td>    0.0928</td> <td>    0.064</td> <td>    1.447</td> <td> 0.148</td> <td>   -0.033</td> <td>    0.218</td>\n",
       "</tr>\n",
       "<tr>\n",
       "  <th>Income</th>               <td> 6.351e-07</td> <td> 9.25e-07</td> <td>    0.686</td> <td> 0.493</td> <td>-1.18e-06</td> <td> 2.45e-06</td>\n",
       "</tr>\n",
       "<tr>\n",
       "  <th>Contacts</th>             <td>    0.0289</td> <td>    0.026</td> <td>    1.094</td> <td> 0.274</td> <td>   -0.023</td> <td>    0.081</td>\n",
       "</tr>\n",
       "<tr>\n",
       "  <th>Yearly_equip_failure</th> <td>   -0.0654</td> <td>    0.042</td> <td>   -1.565</td> <td> 0.118</td> <td>   -0.147</td> <td>    0.017</td>\n",
       "</tr>\n",
       "<tr>\n",
       "  <th>Contract_numeric</th>     <td>   -1.0096</td> <td>    0.038</td> <td>  -26.610</td> <td> 0.000</td> <td>   -1.084</td> <td>   -0.935</td>\n",
       "</tr>\n",
       "<tr>\n",
       "  <th>Phone</th>                <td>   -0.1488</td> <td>    0.088</td> <td>   -1.688</td> <td> 0.091</td> <td>   -0.322</td> <td>    0.024</td>\n",
       "</tr>\n",
       "<tr>\n",
       "  <th>Multiple</th>             <td>    0.8189</td> <td>    0.053</td> <td>   15.381</td> <td> 0.000</td> <td>    0.715</td> <td>    0.923</td>\n",
       "</tr>\n",
       "<tr>\n",
       "  <th>OnlineBackup</th>         <td>    0.3109</td> <td>    0.053</td> <td>    5.905</td> <td> 0.000</td> <td>    0.208</td> <td>    0.414</td>\n",
       "</tr>\n",
       "<tr>\n",
       "  <th>DeviceProtection</th>     <td>    0.3061</td> <td>    0.053</td> <td>    5.811</td> <td> 0.000</td> <td>    0.203</td> <td>    0.409</td>\n",
       "</tr>\n",
       "<tr>\n",
       "  <th>TechSupport</th>          <td>    0.1677</td> <td>    0.054</td> <td>    3.108</td> <td> 0.002</td> <td>    0.062</td> <td>    0.273</td>\n",
       "</tr>\n",
       "<tr>\n",
       "  <th>StreamingTV</th>          <td>    1.4194</td> <td>    0.056</td> <td>   25.552</td> <td> 0.000</td> <td>    1.311</td> <td>    1.528</td>\n",
       "</tr>\n",
       "<tr>\n",
       "  <th>StreamingMovies</th>      <td>    1.6862</td> <td>    0.056</td> <td>   29.915</td> <td> 0.000</td> <td>    1.576</td> <td>    1.797</td>\n",
       "</tr>\n",
       "</table>"
      ],
      "text/plain": [
       "<class 'statsmodels.iolib.summary.Summary'>\n",
       "\"\"\"\n",
       "                           Logit Regression Results                           \n",
       "==============================================================================\n",
       "Dep. Variable:                  Churn   No. Observations:                10000\n",
       "Model:                          Logit   Df Residuals:                     9985\n",
       "Method:                           MLE   Df Model:                           14\n",
       "Date:                Sat, 25 Jun 2022   Pseudo R-squ.:                  0.2264\n",
       "Time:                        18:06:16   Log-Likelihood:                -4473.0\n",
       "converged:                       True   LL-Null:                       -5782.2\n",
       "Covariance Type:            nonrobust   LLR p-value:                     0.000\n",
       "========================================================================================\n",
       "                           coef    std err          z      P>|z|      [0.025      0.975]\n",
       "----------------------------------------------------------------------------------------\n",
       "Intercept               -2.8872      0.131    -22.092      0.000      -3.143      -2.631\n",
       "Population            6.199e-07   4.15e-06      0.149      0.881   -7.51e-06    8.75e-06\n",
       "Area_Suburban           -0.0195      0.065     -0.302      0.763      -0.146       0.107\n",
       "Area_Urban               0.0928      0.064      1.447      0.148      -0.033       0.218\n",
       "Income                6.351e-07   9.25e-07      0.686      0.493   -1.18e-06    2.45e-06\n",
       "Contacts                 0.0289      0.026      1.094      0.274      -0.023       0.081\n",
       "Yearly_equip_failure    -0.0654      0.042     -1.565      0.118      -0.147       0.017\n",
       "Contract_numeric        -1.0096      0.038    -26.610      0.000      -1.084      -0.935\n",
       "Phone                   -0.1488      0.088     -1.688      0.091      -0.322       0.024\n",
       "Multiple                 0.8189      0.053     15.381      0.000       0.715       0.923\n",
       "OnlineBackup             0.3109      0.053      5.905      0.000       0.208       0.414\n",
       "DeviceProtection         0.3061      0.053      5.811      0.000       0.203       0.409\n",
       "TechSupport              0.1677      0.054      3.108      0.002       0.062       0.273\n",
       "StreamingTV              1.4194      0.056     25.552      0.000       1.311       1.528\n",
       "StreamingMovies          1.6862      0.056     29.915      0.000       1.576       1.797\n",
       "========================================================================================\n",
       "\"\"\""
      ]
     },
     "execution_count": 168,
     "metadata": {},
     "output_type": "execute_result"
    }
   ],
   "source": [
    "#Drop Bandwidth_GB_Year, Tenure, MonthlyCharge, Email, & Outage_sec_perweek due to VIF greater than 10 therefore they are highly correlated with another feature. \n",
    "\n",
    "#Re-fit logistic regression model without Bandwidth_GB_Year, Tenure, MonthlyCharge, Email, & Outage_sec_perweek\n",
    "regression_2 = logit('Churn ~ Population + Area_Suburban + Area_Urban + Income + Contacts + Yearly_equip_failure + Contract_numeric + Phone + Multiple + OnlineBackup + DeviceProtection + TechSupport + StreamingTV + StreamingMovies', data=df).fit()\n",
    "\n",
    "#Display model summary\n",
    "regression_2.summary() #(van den Broeck, 2022)"
   ]
  },
  {
   "cell_type": "code",
   "execution_count": 169,
   "id": "b9218be2",
   "metadata": {},
   "outputs": [
    {
     "data": {
      "text/html": [
       "<div>\n",
       "<style scoped>\n",
       "    .dataframe tbody tr th:only-of-type {\n",
       "        vertical-align: middle;\n",
       "    }\n",
       "\n",
       "    .dataframe tbody tr th {\n",
       "        vertical-align: top;\n",
       "    }\n",
       "\n",
       "    .dataframe thead th {\n",
       "        text-align: right;\n",
       "    }\n",
       "</style>\n",
       "<table border=\"1\" class=\"dataframe\">\n",
       "  <thead>\n",
       "    <tr style=\"text-align: right;\">\n",
       "      <th></th>\n",
       "      <th>Feature</th>\n",
       "      <th>VIF</th>\n",
       "    </tr>\n",
       "  </thead>\n",
       "  <tbody>\n",
       "    <tr>\n",
       "      <th>0</th>\n",
       "      <td>Population</td>\n",
       "      <td>1.573931</td>\n",
       "    </tr>\n",
       "    <tr>\n",
       "      <th>1</th>\n",
       "      <td>Area_Suburban</td>\n",
       "      <td>1.871485</td>\n",
       "    </tr>\n",
       "    <tr>\n",
       "      <th>2</th>\n",
       "      <td>Area_Urban</td>\n",
       "      <td>1.864328</td>\n",
       "    </tr>\n",
       "    <tr>\n",
       "      <th>3</th>\n",
       "      <td>Income</td>\n",
       "      <td>2.735440</td>\n",
       "    </tr>\n",
       "    <tr>\n",
       "      <th>4</th>\n",
       "      <td>Contacts</td>\n",
       "      <td>1.926526</td>\n",
       "    </tr>\n",
       "    <tr>\n",
       "      <th>5</th>\n",
       "      <td>Yearly_equip_failure</td>\n",
       "      <td>1.364622</td>\n",
       "    </tr>\n",
       "    <tr>\n",
       "      <th>6</th>\n",
       "      <td>Contract_numeric</td>\n",
       "      <td>1.652730</td>\n",
       "    </tr>\n",
       "    <tr>\n",
       "      <th>7</th>\n",
       "      <td>Phone</td>\n",
       "      <td>5.978683</td>\n",
       "    </tr>\n",
       "    <tr>\n",
       "      <th>8</th>\n",
       "      <td>Multiple</td>\n",
       "      <td>1.788378</td>\n",
       "    </tr>\n",
       "    <tr>\n",
       "      <th>9</th>\n",
       "      <td>OnlineBackup</td>\n",
       "      <td>1.753442</td>\n",
       "    </tr>\n",
       "    <tr>\n",
       "      <th>10</th>\n",
       "      <td>DeviceProtection</td>\n",
       "      <td>1.716089</td>\n",
       "    </tr>\n",
       "    <tr>\n",
       "      <th>11</th>\n",
       "      <td>TechSupport</td>\n",
       "      <td>1.552566</td>\n",
       "    </tr>\n",
       "    <tr>\n",
       "      <th>12</th>\n",
       "      <td>StreamingTV</td>\n",
       "      <td>1.878022</td>\n",
       "    </tr>\n",
       "    <tr>\n",
       "      <th>13</th>\n",
       "      <td>StreamingMovies</td>\n",
       "      <td>1.880978</td>\n",
       "    </tr>\n",
       "  </tbody>\n",
       "</table>\n",
       "</div>"
      ],
      "text/plain": [
       "                 Feature       VIF\n",
       "0             Population  1.573931\n",
       "1          Area_Suburban  1.871485\n",
       "2             Area_Urban  1.864328\n",
       "3                 Income  2.735440\n",
       "4               Contacts  1.926526\n",
       "5   Yearly_equip_failure  1.364622\n",
       "6       Contract_numeric  1.652730\n",
       "7                  Phone  5.978683\n",
       "8               Multiple  1.788378\n",
       "9           OnlineBackup  1.753442\n",
       "10      DeviceProtection  1.716089\n",
       "11           TechSupport  1.552566\n",
       "12           StreamingTV  1.878022\n",
       "13       StreamingMovies  1.880978"
      ]
     },
     "execution_count": 169,
     "metadata": {},
     "output_type": "execute_result"
    }
   ],
   "source": [
    "#Re-Check for multicollinearity using VIF (Sewell, 2022).\n",
    "x = df[['Population', 'Area_Suburban', 'Area_Urban', 'Income', 'Contacts', 'Yearly_equip_failure', 'Contract_numeric', 'Phone', 'Multiple', 'OnlineBackup', 'DeviceProtection', 'TechSupport', 'StreamingTV', 'StreamingMovies']]\n",
    "\n",
    "vif_data = pd.DataFrame()\n",
    "vif_data['Feature'] = x.columns\n",
    "\n",
    "vif_data['VIF'] = [variance_inflation_factor(x.values, i)\n",
    "for i in range(len(x.columns))]\n",
    "#(Sewell, 2022)\n",
    "vif_data"
   ]
  },
  {
   "cell_type": "code",
   "execution_count": 170,
   "id": "389a8d25",
   "metadata": {},
   "outputs": [
    {
     "name": "stdout",
     "output_type": "stream",
     "text": [
      "Optimization terminated successfully.\n",
      "         Current function value: 0.447305\n",
      "         Iterations 7\n"
     ]
    },
    {
     "data": {
      "text/html": [
       "<table class=\"simpletable\">\n",
       "<caption>Logit Regression Results</caption>\n",
       "<tr>\n",
       "  <th>Dep. Variable:</th>         <td>Churn</td>      <th>  No. Observations:  </th>  <td> 10000</td> \n",
       "</tr>\n",
       "<tr>\n",
       "  <th>Model:</th>                 <td>Logit</td>      <th>  Df Residuals:      </th>  <td>  9986</td> \n",
       "</tr>\n",
       "<tr>\n",
       "  <th>Method:</th>                 <td>MLE</td>       <th>  Df Model:          </th>  <td>    13</td> \n",
       "</tr>\n",
       "<tr>\n",
       "  <th>Date:</th>            <td>Sat, 25 Jun 2022</td> <th>  Pseudo R-squ.:     </th>  <td>0.2264</td> \n",
       "</tr>\n",
       "<tr>\n",
       "  <th>Time:</th>                <td>18:06:16</td>     <th>  Log-Likelihood:    </th> <td> -4473.1</td>\n",
       "</tr>\n",
       "<tr>\n",
       "  <th>converged:</th>             <td>True</td>       <th>  LL-Null:           </th> <td> -5782.2</td>\n",
       "</tr>\n",
       "<tr>\n",
       "  <th>Covariance Type:</th>     <td>nonrobust</td>    <th>  LLR p-value:       </th>  <td> 0.000</td> \n",
       "</tr>\n",
       "</table>\n",
       "<table class=\"simpletable\">\n",
       "<tr>\n",
       "            <td></td>              <th>coef</th>     <th>std err</th>      <th>z</th>      <th>P>|z|</th>  <th>[0.025</th>    <th>0.975]</th>  \n",
       "</tr>\n",
       "<tr>\n",
       "  <th>Intercept</th>            <td>   -2.8843</td> <td>    0.129</td> <td>  -22.315</td> <td> 0.000</td> <td>   -3.138</td> <td>   -2.631</td>\n",
       "</tr>\n",
       "<tr>\n",
       "  <th>Area_Suburban</th>        <td>   -0.0193</td> <td>    0.065</td> <td>   -0.299</td> <td> 0.765</td> <td>   -0.146</td> <td>    0.107</td>\n",
       "</tr>\n",
       "<tr>\n",
       "  <th>Area_Urban</th>           <td>    0.0928</td> <td>    0.064</td> <td>    1.448</td> <td> 0.148</td> <td>   -0.033</td> <td>    0.219</td>\n",
       "</tr>\n",
       "<tr>\n",
       "  <th>Income</th>               <td> 6.347e-07</td> <td> 9.26e-07</td> <td>    0.686</td> <td> 0.493</td> <td>-1.18e-06</td> <td> 2.45e-06</td>\n",
       "</tr>\n",
       "<tr>\n",
       "  <th>Contacts</th>             <td>    0.0289</td> <td>    0.026</td> <td>    1.096</td> <td> 0.273</td> <td>   -0.023</td> <td>    0.081</td>\n",
       "</tr>\n",
       "<tr>\n",
       "  <th>Yearly_equip_failure</th> <td>   -0.0655</td> <td>    0.042</td> <td>   -1.566</td> <td> 0.117</td> <td>   -0.147</td> <td>    0.016</td>\n",
       "</tr>\n",
       "<tr>\n",
       "  <th>Contract_numeric</th>     <td>   -1.0096</td> <td>    0.038</td> <td>  -26.610</td> <td> 0.000</td> <td>   -1.084</td> <td>   -0.935</td>\n",
       "</tr>\n",
       "<tr>\n",
       "  <th>Phone</th>                <td>   -0.1487</td> <td>    0.088</td> <td>   -1.687</td> <td> 0.092</td> <td>   -0.321</td> <td>    0.024</td>\n",
       "</tr>\n",
       "<tr>\n",
       "  <th>Multiple</th>             <td>    0.8189</td> <td>    0.053</td> <td>   15.380</td> <td> 0.000</td> <td>    0.715</td> <td>    0.923</td>\n",
       "</tr>\n",
       "<tr>\n",
       "  <th>OnlineBackup</th>         <td>    0.3109</td> <td>    0.053</td> <td>    5.905</td> <td> 0.000</td> <td>    0.208</td> <td>    0.414</td>\n",
       "</tr>\n",
       "<tr>\n",
       "  <th>DeviceProtection</th>     <td>    0.3061</td> <td>    0.053</td> <td>    5.810</td> <td> 0.000</td> <td>    0.203</td> <td>    0.409</td>\n",
       "</tr>\n",
       "<tr>\n",
       "  <th>TechSupport</th>          <td>    0.1676</td> <td>    0.054</td> <td>    3.106</td> <td> 0.002</td> <td>    0.062</td> <td>    0.273</td>\n",
       "</tr>\n",
       "<tr>\n",
       "  <th>StreamingTV</th>          <td>    1.4193</td> <td>    0.056</td> <td>   25.552</td> <td> 0.000</td> <td>    1.310</td> <td>    1.528</td>\n",
       "</tr>\n",
       "<tr>\n",
       "  <th>StreamingMovies</th>      <td>    1.6864</td> <td>    0.056</td> <td>   29.930</td> <td> 0.000</td> <td>    1.576</td> <td>    1.797</td>\n",
       "</tr>\n",
       "</table>"
      ],
      "text/plain": [
       "<class 'statsmodels.iolib.summary.Summary'>\n",
       "\"\"\"\n",
       "                           Logit Regression Results                           \n",
       "==============================================================================\n",
       "Dep. Variable:                  Churn   No. Observations:                10000\n",
       "Model:                          Logit   Df Residuals:                     9986\n",
       "Method:                           MLE   Df Model:                           13\n",
       "Date:                Sat, 25 Jun 2022   Pseudo R-squ.:                  0.2264\n",
       "Time:                        18:06:16   Log-Likelihood:                -4473.1\n",
       "converged:                       True   LL-Null:                       -5782.2\n",
       "Covariance Type:            nonrobust   LLR p-value:                     0.000\n",
       "========================================================================================\n",
       "                           coef    std err          z      P>|z|      [0.025      0.975]\n",
       "----------------------------------------------------------------------------------------\n",
       "Intercept               -2.8843      0.129    -22.315      0.000      -3.138      -2.631\n",
       "Area_Suburban           -0.0193      0.065     -0.299      0.765      -0.146       0.107\n",
       "Area_Urban               0.0928      0.064      1.448      0.148      -0.033       0.219\n",
       "Income                6.347e-07   9.26e-07      0.686      0.493   -1.18e-06    2.45e-06\n",
       "Contacts                 0.0289      0.026      1.096      0.273      -0.023       0.081\n",
       "Yearly_equip_failure    -0.0655      0.042     -1.566      0.117      -0.147       0.016\n",
       "Contract_numeric        -1.0096      0.038    -26.610      0.000      -1.084      -0.935\n",
       "Phone                   -0.1487      0.088     -1.687      0.092      -0.321       0.024\n",
       "Multiple                 0.8189      0.053     15.380      0.000       0.715       0.923\n",
       "OnlineBackup             0.3109      0.053      5.905      0.000       0.208       0.414\n",
       "DeviceProtection         0.3061      0.053      5.810      0.000       0.203       0.409\n",
       "TechSupport              0.1676      0.054      3.106      0.002       0.062       0.273\n",
       "StreamingTV              1.4193      0.056     25.552      0.000       1.310       1.528\n",
       "StreamingMovies          1.6864      0.056     29.930      0.000       1.576       1.797\n",
       "========================================================================================\n",
       "\"\"\""
      ]
     },
     "execution_count": 170,
     "metadata": {},
     "output_type": "execute_result"
    }
   ],
   "source": [
    "#Feature Selection with Backward Stepwise Elimination\n",
    "#Drop highest P-value, above 0.05 (Population)\n",
    "regression_3 = logit('Churn ~ Area_Suburban + Area_Urban + Income + Contacts + Yearly_equip_failure + Contract_numeric + Phone + Multiple + OnlineBackup + DeviceProtection + TechSupport + StreamingTV + StreamingMovies', data=df).fit()\n",
    "\n",
    "# display model summary\n",
    "regression_3.summary()"
   ]
  },
  {
   "cell_type": "code",
   "execution_count": 171,
   "id": "5f1512ac",
   "metadata": {},
   "outputs": [
    {
     "name": "stdout",
     "output_type": "stream",
     "text": [
      "Optimization terminated successfully.\n",
      "         Current function value: 0.447310\n",
      "         Iterations 7\n"
     ]
    },
    {
     "data": {
      "text/html": [
       "<table class=\"simpletable\">\n",
       "<caption>Logit Regression Results</caption>\n",
       "<tr>\n",
       "  <th>Dep. Variable:</th>         <td>Churn</td>      <th>  No. Observations:  </th>  <td> 10000</td> \n",
       "</tr>\n",
       "<tr>\n",
       "  <th>Model:</th>                 <td>Logit</td>      <th>  Df Residuals:      </th>  <td>  9987</td> \n",
       "</tr>\n",
       "<tr>\n",
       "  <th>Method:</th>                 <td>MLE</td>       <th>  Df Model:          </th>  <td>    12</td> \n",
       "</tr>\n",
       "<tr>\n",
       "  <th>Date:</th>            <td>Sat, 25 Jun 2022</td> <th>  Pseudo R-squ.:     </th>  <td>0.2264</td> \n",
       "</tr>\n",
       "<tr>\n",
       "  <th>Time:</th>                <td>18:06:16</td>     <th>  Log-Likelihood:    </th> <td> -4473.1</td>\n",
       "</tr>\n",
       "<tr>\n",
       "  <th>converged:</th>             <td>True</td>       <th>  LL-Null:           </th> <td> -5782.2</td>\n",
       "</tr>\n",
       "<tr>\n",
       "  <th>Covariance Type:</th>     <td>nonrobust</td>    <th>  LLR p-value:       </th>  <td> 0.000</td> \n",
       "</tr>\n",
       "</table>\n",
       "<table class=\"simpletable\">\n",
       "<tr>\n",
       "            <td></td>              <th>coef</th>     <th>std err</th>      <th>z</th>      <th>P>|z|</th>  <th>[0.025</th>    <th>0.975]</th>  \n",
       "</tr>\n",
       "<tr>\n",
       "  <th>Intercept</th>            <td>   -2.8939</td> <td>    0.125</td> <td>  -23.101</td> <td> 0.000</td> <td>   -3.139</td> <td>   -2.648</td>\n",
       "</tr>\n",
       "<tr>\n",
       "  <th>Area_Urban</th>           <td>    0.1025</td> <td>    0.055</td> <td>    1.851</td> <td> 0.064</td> <td>   -0.006</td> <td>    0.211</td>\n",
       "</tr>\n",
       "<tr>\n",
       "  <th>Income</th>               <td> 6.325e-07</td> <td> 9.26e-07</td> <td>    0.683</td> <td> 0.494</td> <td>-1.18e-06</td> <td> 2.45e-06</td>\n",
       "</tr>\n",
       "<tr>\n",
       "  <th>Contacts</th>             <td>    0.0289</td> <td>    0.026</td> <td>    1.095</td> <td> 0.273</td> <td>   -0.023</td> <td>    0.081</td>\n",
       "</tr>\n",
       "<tr>\n",
       "  <th>Yearly_equip_failure</th> <td>   -0.0655</td> <td>    0.042</td> <td>   -1.566</td> <td> 0.117</td> <td>   -0.147</td> <td>    0.016</td>\n",
       "</tr>\n",
       "<tr>\n",
       "  <th>Contract_numeric</th>     <td>   -1.0095</td> <td>    0.038</td> <td>  -26.609</td> <td> 0.000</td> <td>   -1.084</td> <td>   -0.935</td>\n",
       "</tr>\n",
       "<tr>\n",
       "  <th>Phone</th>                <td>   -0.1486</td> <td>    0.088</td> <td>   -1.686</td> <td> 0.092</td> <td>   -0.321</td> <td>    0.024</td>\n",
       "</tr>\n",
       "<tr>\n",
       "  <th>Multiple</th>             <td>    0.8187</td> <td>    0.053</td> <td>   15.378</td> <td> 0.000</td> <td>    0.714</td> <td>    0.923</td>\n",
       "</tr>\n",
       "<tr>\n",
       "  <th>OnlineBackup</th>         <td>    0.3110</td> <td>    0.053</td> <td>    5.908</td> <td> 0.000</td> <td>    0.208</td> <td>    0.414</td>\n",
       "</tr>\n",
       "<tr>\n",
       "  <th>DeviceProtection</th>     <td>    0.3060</td> <td>    0.053</td> <td>    5.809</td> <td> 0.000</td> <td>    0.203</td> <td>    0.409</td>\n",
       "</tr>\n",
       "<tr>\n",
       "  <th>TechSupport</th>          <td>    0.1677</td> <td>    0.054</td> <td>    3.110</td> <td> 0.002</td> <td>    0.062</td> <td>    0.273</td>\n",
       "</tr>\n",
       "<tr>\n",
       "  <th>StreamingTV</th>          <td>    1.4193</td> <td>    0.056</td> <td>   25.552</td> <td> 0.000</td> <td>    1.310</td> <td>    1.528</td>\n",
       "</tr>\n",
       "<tr>\n",
       "  <th>StreamingMovies</th>      <td>    1.6862</td> <td>    0.056</td> <td>   29.929</td> <td> 0.000</td> <td>    1.576</td> <td>    1.797</td>\n",
       "</tr>\n",
       "</table>"
      ],
      "text/plain": [
       "<class 'statsmodels.iolib.summary.Summary'>\n",
       "\"\"\"\n",
       "                           Logit Regression Results                           \n",
       "==============================================================================\n",
       "Dep. Variable:                  Churn   No. Observations:                10000\n",
       "Model:                          Logit   Df Residuals:                     9987\n",
       "Method:                           MLE   Df Model:                           12\n",
       "Date:                Sat, 25 Jun 2022   Pseudo R-squ.:                  0.2264\n",
       "Time:                        18:06:16   Log-Likelihood:                -4473.1\n",
       "converged:                       True   LL-Null:                       -5782.2\n",
       "Covariance Type:            nonrobust   LLR p-value:                     0.000\n",
       "========================================================================================\n",
       "                           coef    std err          z      P>|z|      [0.025      0.975]\n",
       "----------------------------------------------------------------------------------------\n",
       "Intercept               -2.8939      0.125    -23.101      0.000      -3.139      -2.648\n",
       "Area_Urban               0.1025      0.055      1.851      0.064      -0.006       0.211\n",
       "Income                6.325e-07   9.26e-07      0.683      0.494   -1.18e-06    2.45e-06\n",
       "Contacts                 0.0289      0.026      1.095      0.273      -0.023       0.081\n",
       "Yearly_equip_failure    -0.0655      0.042     -1.566      0.117      -0.147       0.016\n",
       "Contract_numeric        -1.0095      0.038    -26.609      0.000      -1.084      -0.935\n",
       "Phone                   -0.1486      0.088     -1.686      0.092      -0.321       0.024\n",
       "Multiple                 0.8187      0.053     15.378      0.000       0.714       0.923\n",
       "OnlineBackup             0.3110      0.053      5.908      0.000       0.208       0.414\n",
       "DeviceProtection         0.3060      0.053      5.809      0.000       0.203       0.409\n",
       "TechSupport              0.1677      0.054      3.110      0.002       0.062       0.273\n",
       "StreamingTV              1.4193      0.056     25.552      0.000       1.310       1.528\n",
       "StreamingMovies          1.6862      0.056     29.929      0.000       1.576       1.797\n",
       "========================================================================================\n",
       "\"\"\""
      ]
     },
     "execution_count": 171,
     "metadata": {},
     "output_type": "execute_result"
    }
   ],
   "source": [
    "#Feature Selection with Backward Stepwise Elimination\n",
    "#Drop highest P-value, above 0.05 (Area_Suburban)\n",
    "regression_4 = logit('Churn ~ Area_Urban + Income + Contacts + Yearly_equip_failure + Contract_numeric + Phone + Multiple + OnlineBackup + DeviceProtection + TechSupport + StreamingTV + StreamingMovies', data=df).fit()\n",
    "\n",
    "# display model summary\n",
    "regression_4.summary()"
   ]
  },
  {
   "cell_type": "code",
   "execution_count": 172,
   "id": "a02fddac",
   "metadata": {},
   "outputs": [
    {
     "name": "stdout",
     "output_type": "stream",
     "text": [
      "Optimization terminated successfully.\n",
      "         Current function value: 0.447333\n",
      "         Iterations 7\n"
     ]
    },
    {
     "data": {
      "text/html": [
       "<table class=\"simpletable\">\n",
       "<caption>Logit Regression Results</caption>\n",
       "<tr>\n",
       "  <th>Dep. Variable:</th>         <td>Churn</td>      <th>  No. Observations:  </th>  <td> 10000</td> \n",
       "</tr>\n",
       "<tr>\n",
       "  <th>Model:</th>                 <td>Logit</td>      <th>  Df Residuals:      </th>  <td>  9988</td> \n",
       "</tr>\n",
       "<tr>\n",
       "  <th>Method:</th>                 <td>MLE</td>       <th>  Df Model:          </th>  <td>    11</td> \n",
       "</tr>\n",
       "<tr>\n",
       "  <th>Date:</th>            <td>Sat, 25 Jun 2022</td> <th>  Pseudo R-squ.:     </th>  <td>0.2264</td> \n",
       "</tr>\n",
       "<tr>\n",
       "  <th>Time:</th>                <td>18:06:17</td>     <th>  Log-Likelihood:    </th> <td> -4473.3</td>\n",
       "</tr>\n",
       "<tr>\n",
       "  <th>converged:</th>             <td>True</td>       <th>  LL-Null:           </th> <td> -5782.2</td>\n",
       "</tr>\n",
       "<tr>\n",
       "  <th>Covariance Type:</th>     <td>nonrobust</td>    <th>  LLR p-value:       </th>  <td> 0.000</td> \n",
       "</tr>\n",
       "</table>\n",
       "<table class=\"simpletable\">\n",
       "<tr>\n",
       "            <td></td>              <th>coef</th>     <th>std err</th>      <th>z</th>      <th>P>|z|</th>  <th>[0.025</th>    <th>0.975]</th>  \n",
       "</tr>\n",
       "<tr>\n",
       "  <th>Intercept</th>            <td>   -2.8683</td> <td>    0.119</td> <td>  -24.011</td> <td> 0.000</td> <td>   -3.102</td> <td>   -2.634</td>\n",
       "</tr>\n",
       "<tr>\n",
       "  <th>Area_Urban</th>           <td>    0.1023</td> <td>    0.055</td> <td>    1.847</td> <td> 0.065</td> <td>   -0.006</td> <td>    0.211</td>\n",
       "</tr>\n",
       "<tr>\n",
       "  <th>Contacts</th>             <td>    0.0288</td> <td>    0.026</td> <td>    1.093</td> <td> 0.274</td> <td>   -0.023</td> <td>    0.081</td>\n",
       "</tr>\n",
       "<tr>\n",
       "  <th>Yearly_equip_failure</th> <td>   -0.0653</td> <td>    0.042</td> <td>   -1.561</td> <td> 0.119</td> <td>   -0.147</td> <td>    0.017</td>\n",
       "</tr>\n",
       "<tr>\n",
       "  <th>Contract_numeric</th>     <td>   -1.0095</td> <td>    0.038</td> <td>  -26.611</td> <td> 0.000</td> <td>   -1.084</td> <td>   -0.935</td>\n",
       "</tr>\n",
       "<tr>\n",
       "  <th>Phone</th>                <td>   -0.1488</td> <td>    0.088</td> <td>   -1.688</td> <td> 0.091</td> <td>   -0.322</td> <td>    0.024</td>\n",
       "</tr>\n",
       "<tr>\n",
       "  <th>Multiple</th>             <td>    0.8184</td> <td>    0.053</td> <td>   15.373</td> <td> 0.000</td> <td>    0.714</td> <td>    0.923</td>\n",
       "</tr>\n",
       "<tr>\n",
       "  <th>OnlineBackup</th>         <td>    0.3107</td> <td>    0.053</td> <td>    5.903</td> <td> 0.000</td> <td>    0.208</td> <td>    0.414</td>\n",
       "</tr>\n",
       "<tr>\n",
       "  <th>DeviceProtection</th>     <td>    0.3062</td> <td>    0.053</td> <td>    5.812</td> <td> 0.000</td> <td>    0.203</td> <td>    0.409</td>\n",
       "</tr>\n",
       "<tr>\n",
       "  <th>TechSupport</th>          <td>    0.1681</td> <td>    0.054</td> <td>    3.117</td> <td> 0.002</td> <td>    0.062</td> <td>    0.274</td>\n",
       "</tr>\n",
       "<tr>\n",
       "  <th>StreamingTV</th>          <td>    1.4192</td> <td>    0.056</td> <td>   25.550</td> <td> 0.000</td> <td>    1.310</td> <td>    1.528</td>\n",
       "</tr>\n",
       "<tr>\n",
       "  <th>StreamingMovies</th>      <td>    1.6861</td> <td>    0.056</td> <td>   29.929</td> <td> 0.000</td> <td>    1.576</td> <td>    1.797</td>\n",
       "</tr>\n",
       "</table>"
      ],
      "text/plain": [
       "<class 'statsmodels.iolib.summary.Summary'>\n",
       "\"\"\"\n",
       "                           Logit Regression Results                           \n",
       "==============================================================================\n",
       "Dep. Variable:                  Churn   No. Observations:                10000\n",
       "Model:                          Logit   Df Residuals:                     9988\n",
       "Method:                           MLE   Df Model:                           11\n",
       "Date:                Sat, 25 Jun 2022   Pseudo R-squ.:                  0.2264\n",
       "Time:                        18:06:17   Log-Likelihood:                -4473.3\n",
       "converged:                       True   LL-Null:                       -5782.2\n",
       "Covariance Type:            nonrobust   LLR p-value:                     0.000\n",
       "========================================================================================\n",
       "                           coef    std err          z      P>|z|      [0.025      0.975]\n",
       "----------------------------------------------------------------------------------------\n",
       "Intercept               -2.8683      0.119    -24.011      0.000      -3.102      -2.634\n",
       "Area_Urban               0.1023      0.055      1.847      0.065      -0.006       0.211\n",
       "Contacts                 0.0288      0.026      1.093      0.274      -0.023       0.081\n",
       "Yearly_equip_failure    -0.0653      0.042     -1.561      0.119      -0.147       0.017\n",
       "Contract_numeric        -1.0095      0.038    -26.611      0.000      -1.084      -0.935\n",
       "Phone                   -0.1488      0.088     -1.688      0.091      -0.322       0.024\n",
       "Multiple                 0.8184      0.053     15.373      0.000       0.714       0.923\n",
       "OnlineBackup             0.3107      0.053      5.903      0.000       0.208       0.414\n",
       "DeviceProtection         0.3062      0.053      5.812      0.000       0.203       0.409\n",
       "TechSupport              0.1681      0.054      3.117      0.002       0.062       0.274\n",
       "StreamingTV              1.4192      0.056     25.550      0.000       1.310       1.528\n",
       "StreamingMovies          1.6861      0.056     29.929      0.000       1.576       1.797\n",
       "========================================================================================\n",
       "\"\"\""
      ]
     },
     "execution_count": 172,
     "metadata": {},
     "output_type": "execute_result"
    }
   ],
   "source": [
    "#Feature Selection with Backward Stepwise Elimination\n",
    "#Drop highest P-value, above 0.05 (Income)\n",
    "regression_5 = logit('Churn ~ Area_Urban + Contacts + Yearly_equip_failure + Contract_numeric + Phone + Multiple + OnlineBackup + DeviceProtection + TechSupport + StreamingTV + StreamingMovies', data=df).fit()\n",
    "\n",
    "# display model summary\n",
    "regression_5.summary()"
   ]
  },
  {
   "cell_type": "code",
   "execution_count": 173,
   "id": "6b293421",
   "metadata": {},
   "outputs": [
    {
     "name": "stdout",
     "output_type": "stream",
     "text": [
      "Optimization terminated successfully.\n",
      "         Current function value: 0.447393\n",
      "         Iterations 7\n"
     ]
    },
    {
     "data": {
      "text/html": [
       "<table class=\"simpletable\">\n",
       "<caption>Logit Regression Results</caption>\n",
       "<tr>\n",
       "  <th>Dep. Variable:</th>         <td>Churn</td>      <th>  No. Observations:  </th>  <td> 10000</td> \n",
       "</tr>\n",
       "<tr>\n",
       "  <th>Model:</th>                 <td>Logit</td>      <th>  Df Residuals:      </th>  <td>  9989</td> \n",
       "</tr>\n",
       "<tr>\n",
       "  <th>Method:</th>                 <td>MLE</td>       <th>  Df Model:          </th>  <td>    10</td> \n",
       "</tr>\n",
       "<tr>\n",
       "  <th>Date:</th>            <td>Sat, 25 Jun 2022</td> <th>  Pseudo R-squ.:     </th>  <td>0.2263</td> \n",
       "</tr>\n",
       "<tr>\n",
       "  <th>Time:</th>                <td>18:06:17</td>     <th>  Log-Likelihood:    </th> <td> -4473.9</td>\n",
       "</tr>\n",
       "<tr>\n",
       "  <th>converged:</th>             <td>True</td>       <th>  LL-Null:           </th> <td> -5782.2</td>\n",
       "</tr>\n",
       "<tr>\n",
       "  <th>Covariance Type:</th>     <td>nonrobust</td>    <th>  LLR p-value:       </th>  <td> 0.000</td> \n",
       "</tr>\n",
       "</table>\n",
       "<table class=\"simpletable\">\n",
       "<tr>\n",
       "            <td></td>              <th>coef</th>     <th>std err</th>      <th>z</th>      <th>P>|z|</th>  <th>[0.025</th>    <th>0.975]</th>  \n",
       "</tr>\n",
       "<tr>\n",
       "  <th>Intercept</th>            <td>   -2.8398</td> <td>    0.117</td> <td>  -24.374</td> <td> 0.000</td> <td>   -3.068</td> <td>   -2.611</td>\n",
       "</tr>\n",
       "<tr>\n",
       "  <th>Area_Urban</th>           <td>    0.1027</td> <td>    0.055</td> <td>    1.855</td> <td> 0.064</td> <td>   -0.006</td> <td>    0.211</td>\n",
       "</tr>\n",
       "<tr>\n",
       "  <th>Yearly_equip_failure</th> <td>   -0.0656</td> <td>    0.042</td> <td>   -1.568</td> <td> 0.117</td> <td>   -0.148</td> <td>    0.016</td>\n",
       "</tr>\n",
       "<tr>\n",
       "  <th>Contract_numeric</th>     <td>   -1.0091</td> <td>    0.038</td> <td>  -26.604</td> <td> 0.000</td> <td>   -1.083</td> <td>   -0.935</td>\n",
       "</tr>\n",
       "<tr>\n",
       "  <th>Phone</th>                <td>   -0.1480</td> <td>    0.088</td> <td>   -1.679</td> <td> 0.093</td> <td>   -0.321</td> <td>    0.025</td>\n",
       "</tr>\n",
       "<tr>\n",
       "  <th>Multiple</th>             <td>    0.8175</td> <td>    0.053</td> <td>   15.360</td> <td> 0.000</td> <td>    0.713</td> <td>    0.922</td>\n",
       "</tr>\n",
       "<tr>\n",
       "  <th>OnlineBackup</th>         <td>    0.3108</td> <td>    0.053</td> <td>    5.906</td> <td> 0.000</td> <td>    0.208</td> <td>    0.414</td>\n",
       "</tr>\n",
       "<tr>\n",
       "  <th>DeviceProtection</th>     <td>    0.3063</td> <td>    0.053</td> <td>    5.816</td> <td> 0.000</td> <td>    0.203</td> <td>    0.410</td>\n",
       "</tr>\n",
       "<tr>\n",
       "  <th>TechSupport</th>          <td>    0.1675</td> <td>    0.054</td> <td>    3.106</td> <td> 0.002</td> <td>    0.062</td> <td>    0.273</td>\n",
       "</tr>\n",
       "<tr>\n",
       "  <th>StreamingTV</th>          <td>    1.4189</td> <td>    0.056</td> <td>   25.549</td> <td> 0.000</td> <td>    1.310</td> <td>    1.528</td>\n",
       "</tr>\n",
       "<tr>\n",
       "  <th>StreamingMovies</th>      <td>    1.6864</td> <td>    0.056</td> <td>   29.935</td> <td> 0.000</td> <td>    1.576</td> <td>    1.797</td>\n",
       "</tr>\n",
       "</table>"
      ],
      "text/plain": [
       "<class 'statsmodels.iolib.summary.Summary'>\n",
       "\"\"\"\n",
       "                           Logit Regression Results                           \n",
       "==============================================================================\n",
       "Dep. Variable:                  Churn   No. Observations:                10000\n",
       "Model:                          Logit   Df Residuals:                     9989\n",
       "Method:                           MLE   Df Model:                           10\n",
       "Date:                Sat, 25 Jun 2022   Pseudo R-squ.:                  0.2263\n",
       "Time:                        18:06:17   Log-Likelihood:                -4473.9\n",
       "converged:                       True   LL-Null:                       -5782.2\n",
       "Covariance Type:            nonrobust   LLR p-value:                     0.000\n",
       "========================================================================================\n",
       "                           coef    std err          z      P>|z|      [0.025      0.975]\n",
       "----------------------------------------------------------------------------------------\n",
       "Intercept               -2.8398      0.117    -24.374      0.000      -3.068      -2.611\n",
       "Area_Urban               0.1027      0.055      1.855      0.064      -0.006       0.211\n",
       "Yearly_equip_failure    -0.0656      0.042     -1.568      0.117      -0.148       0.016\n",
       "Contract_numeric        -1.0091      0.038    -26.604      0.000      -1.083      -0.935\n",
       "Phone                   -0.1480      0.088     -1.679      0.093      -0.321       0.025\n",
       "Multiple                 0.8175      0.053     15.360      0.000       0.713       0.922\n",
       "OnlineBackup             0.3108      0.053      5.906      0.000       0.208       0.414\n",
       "DeviceProtection         0.3063      0.053      5.816      0.000       0.203       0.410\n",
       "TechSupport              0.1675      0.054      3.106      0.002       0.062       0.273\n",
       "StreamingTV              1.4189      0.056     25.549      0.000       1.310       1.528\n",
       "StreamingMovies          1.6864      0.056     29.935      0.000       1.576       1.797\n",
       "========================================================================================\n",
       "\"\"\""
      ]
     },
     "execution_count": 173,
     "metadata": {},
     "output_type": "execute_result"
    }
   ],
   "source": [
    "#Feature Selection with Backward Stepwise Elimination\n",
    "#Drop highest P-value, above 0.05 (Contacts)\n",
    "regression_6 = logit('Churn ~ Area_Urban + Yearly_equip_failure + Contract_numeric + Phone + Multiple + OnlineBackup + DeviceProtection + TechSupport + StreamingTV + StreamingMovies', data=df).fit()\n",
    "\n",
    "# display model summary\n",
    "regression_6.summary()"
   ]
  },
  {
   "cell_type": "code",
   "execution_count": 174,
   "id": "06b9a18d",
   "metadata": {},
   "outputs": [
    {
     "name": "stdout",
     "output_type": "stream",
     "text": [
      "Optimization terminated successfully.\n",
      "         Current function value: 0.447516\n",
      "         Iterations 7\n"
     ]
    },
    {
     "data": {
      "text/html": [
       "<table class=\"simpletable\">\n",
       "<caption>Logit Regression Results</caption>\n",
       "<tr>\n",
       "  <th>Dep. Variable:</th>         <td>Churn</td>      <th>  No. Observations:  </th>  <td> 10000</td> \n",
       "</tr>\n",
       "<tr>\n",
       "  <th>Model:</th>                 <td>Logit</td>      <th>  Df Residuals:      </th>  <td>  9990</td> \n",
       "</tr>\n",
       "<tr>\n",
       "  <th>Method:</th>                 <td>MLE</td>       <th>  Df Model:          </th>  <td>     9</td> \n",
       "</tr>\n",
       "<tr>\n",
       "  <th>Date:</th>            <td>Sat, 25 Jun 2022</td> <th>  Pseudo R-squ.:     </th>  <td>0.2260</td> \n",
       "</tr>\n",
       "<tr>\n",
       "  <th>Time:</th>                <td>18:06:17</td>     <th>  Log-Likelihood:    </th> <td> -4475.2</td>\n",
       "</tr>\n",
       "<tr>\n",
       "  <th>converged:</th>             <td>True</td>       <th>  LL-Null:           </th> <td> -5782.2</td>\n",
       "</tr>\n",
       "<tr>\n",
       "  <th>Covariance Type:</th>     <td>nonrobust</td>    <th>  LLR p-value:       </th>  <td> 0.000</td> \n",
       "</tr>\n",
       "</table>\n",
       "<table class=\"simpletable\">\n",
       "<tr>\n",
       "          <td></td>            <th>coef</th>     <th>std err</th>      <th>z</th>      <th>P>|z|</th>  <th>[0.025</th>    <th>0.975]</th>  \n",
       "</tr>\n",
       "<tr>\n",
       "  <th>Intercept</th>        <td>   -2.8680</td> <td>    0.115</td> <td>  -24.895</td> <td> 0.000</td> <td>   -3.094</td> <td>   -2.642</td>\n",
       "</tr>\n",
       "<tr>\n",
       "  <th>Area_Urban</th>       <td>    0.1033</td> <td>    0.055</td> <td>    1.865</td> <td> 0.062</td> <td>   -0.005</td> <td>    0.212</td>\n",
       "</tr>\n",
       "<tr>\n",
       "  <th>Contract_numeric</th> <td>   -1.0088</td> <td>    0.038</td> <td>  -26.602</td> <td> 0.000</td> <td>   -1.083</td> <td>   -0.934</td>\n",
       "</tr>\n",
       "<tr>\n",
       "  <th>Phone</th>            <td>   -0.1465</td> <td>    0.088</td> <td>   -1.662</td> <td> 0.097</td> <td>   -0.319</td> <td>    0.026</td>\n",
       "</tr>\n",
       "<tr>\n",
       "  <th>Multiple</th>         <td>    0.8174</td> <td>    0.053</td> <td>   15.361</td> <td> 0.000</td> <td>    0.713</td> <td>    0.922</td>\n",
       "</tr>\n",
       "<tr>\n",
       "  <th>OnlineBackup</th>     <td>    0.3121</td> <td>    0.053</td> <td>    5.931</td> <td> 0.000</td> <td>    0.209</td> <td>    0.415</td>\n",
       "</tr>\n",
       "<tr>\n",
       "  <th>DeviceProtection</th> <td>    0.3070</td> <td>    0.053</td> <td>    5.828</td> <td> 0.000</td> <td>    0.204</td> <td>    0.410</td>\n",
       "</tr>\n",
       "<tr>\n",
       "  <th>TechSupport</th>      <td>    0.1674</td> <td>    0.054</td> <td>    3.105</td> <td> 0.002</td> <td>    0.062</td> <td>    0.273</td>\n",
       "</tr>\n",
       "<tr>\n",
       "  <th>StreamingTV</th>      <td>    1.4183</td> <td>    0.056</td> <td>   25.543</td> <td> 0.000</td> <td>    1.309</td> <td>    1.527</td>\n",
       "</tr>\n",
       "<tr>\n",
       "  <th>StreamingMovies</th>  <td>    1.6867</td> <td>    0.056</td> <td>   29.944</td> <td> 0.000</td> <td>    1.576</td> <td>    1.797</td>\n",
       "</tr>\n",
       "</table>"
      ],
      "text/plain": [
       "<class 'statsmodels.iolib.summary.Summary'>\n",
       "\"\"\"\n",
       "                           Logit Regression Results                           \n",
       "==============================================================================\n",
       "Dep. Variable:                  Churn   No. Observations:                10000\n",
       "Model:                          Logit   Df Residuals:                     9990\n",
       "Method:                           MLE   Df Model:                            9\n",
       "Date:                Sat, 25 Jun 2022   Pseudo R-squ.:                  0.2260\n",
       "Time:                        18:06:17   Log-Likelihood:                -4475.2\n",
       "converged:                       True   LL-Null:                       -5782.2\n",
       "Covariance Type:            nonrobust   LLR p-value:                     0.000\n",
       "====================================================================================\n",
       "                       coef    std err          z      P>|z|      [0.025      0.975]\n",
       "------------------------------------------------------------------------------------\n",
       "Intercept           -2.8680      0.115    -24.895      0.000      -3.094      -2.642\n",
       "Area_Urban           0.1033      0.055      1.865      0.062      -0.005       0.212\n",
       "Contract_numeric    -1.0088      0.038    -26.602      0.000      -1.083      -0.934\n",
       "Phone               -0.1465      0.088     -1.662      0.097      -0.319       0.026\n",
       "Multiple             0.8174      0.053     15.361      0.000       0.713       0.922\n",
       "OnlineBackup         0.3121      0.053      5.931      0.000       0.209       0.415\n",
       "DeviceProtection     0.3070      0.053      5.828      0.000       0.204       0.410\n",
       "TechSupport          0.1674      0.054      3.105      0.002       0.062       0.273\n",
       "StreamingTV          1.4183      0.056     25.543      0.000       1.309       1.527\n",
       "StreamingMovies      1.6867      0.056     29.944      0.000       1.576       1.797\n",
       "====================================================================================\n",
       "\"\"\""
      ]
     },
     "execution_count": 174,
     "metadata": {},
     "output_type": "execute_result"
    }
   ],
   "source": [
    "#Feature Selection with Backward Stepwise Elimination\n",
    "#Drop highest P-value, above 0.05 (Yearly_equip_failure)\n",
    "regression_7 = logit('Churn ~ Area_Urban + Contract_numeric + Phone + Multiple + OnlineBackup + DeviceProtection + TechSupport + StreamingTV + StreamingMovies', data=df).fit()\n",
    "\n",
    "# display model summary\n",
    "regression_7.summary()"
   ]
  },
  {
   "cell_type": "code",
   "execution_count": 175,
   "id": "ed61f805",
   "metadata": {},
   "outputs": [
    {
     "name": "stdout",
     "output_type": "stream",
     "text": [
      "Optimization terminated successfully.\n",
      "         Current function value: 0.447653\n",
      "         Iterations 7\n"
     ]
    },
    {
     "data": {
      "text/html": [
       "<table class=\"simpletable\">\n",
       "<caption>Logit Regression Results</caption>\n",
       "<tr>\n",
       "  <th>Dep. Variable:</th>         <td>Churn</td>      <th>  No. Observations:  </th>  <td> 10000</td> \n",
       "</tr>\n",
       "<tr>\n",
       "  <th>Model:</th>                 <td>Logit</td>      <th>  Df Residuals:      </th>  <td>  9991</td> \n",
       "</tr>\n",
       "<tr>\n",
       "  <th>Method:</th>                 <td>MLE</td>       <th>  Df Model:          </th>  <td>     8</td> \n",
       "</tr>\n",
       "<tr>\n",
       "  <th>Date:</th>            <td>Sat, 25 Jun 2022</td> <th>  Pseudo R-squ.:     </th>  <td>0.2258</td> \n",
       "</tr>\n",
       "<tr>\n",
       "  <th>Time:</th>                <td>18:06:17</td>     <th>  Log-Likelihood:    </th> <td> -4476.5</td>\n",
       "</tr>\n",
       "<tr>\n",
       "  <th>converged:</th>             <td>True</td>       <th>  LL-Null:           </th> <td> -5782.2</td>\n",
       "</tr>\n",
       "<tr>\n",
       "  <th>Covariance Type:</th>     <td>nonrobust</td>    <th>  LLR p-value:       </th>  <td> 0.000</td> \n",
       "</tr>\n",
       "</table>\n",
       "<table class=\"simpletable\">\n",
       "<tr>\n",
       "          <td></td>            <th>coef</th>     <th>std err</th>      <th>z</th>      <th>P>|z|</th>  <th>[0.025</th>    <th>0.975]</th>  \n",
       "</tr>\n",
       "<tr>\n",
       "  <th>Intercept</th>        <td>   -3.0019</td> <td>    0.083</td> <td>  -36.214</td> <td> 0.000</td> <td>   -3.164</td> <td>   -2.839</td>\n",
       "</tr>\n",
       "<tr>\n",
       "  <th>Area_Urban</th>       <td>    0.1044</td> <td>    0.055</td> <td>    1.885</td> <td> 0.059</td> <td>   -0.004</td> <td>    0.213</td>\n",
       "</tr>\n",
       "<tr>\n",
       "  <th>Contract_numeric</th> <td>   -1.0097</td> <td>    0.038</td> <td>  -26.628</td> <td> 0.000</td> <td>   -1.084</td> <td>   -0.935</td>\n",
       "</tr>\n",
       "<tr>\n",
       "  <th>Multiple</th>         <td>    0.8173</td> <td>    0.053</td> <td>   15.361</td> <td> 0.000</td> <td>    0.713</td> <td>    0.922</td>\n",
       "</tr>\n",
       "<tr>\n",
       "  <th>OnlineBackup</th>     <td>    0.3120</td> <td>    0.053</td> <td>    5.931</td> <td> 0.000</td> <td>    0.209</td> <td>    0.415</td>\n",
       "</tr>\n",
       "<tr>\n",
       "  <th>DeviceProtection</th> <td>    0.3092</td> <td>    0.053</td> <td>    5.875</td> <td> 0.000</td> <td>    0.206</td> <td>    0.412</td>\n",
       "</tr>\n",
       "<tr>\n",
       "  <th>TechSupport</th>      <td>    0.1668</td> <td>    0.054</td> <td>    3.094</td> <td> 0.002</td> <td>    0.061</td> <td>    0.272</td>\n",
       "</tr>\n",
       "<tr>\n",
       "  <th>StreamingTV</th>      <td>    1.4196</td> <td>    0.056</td> <td>   25.573</td> <td> 0.000</td> <td>    1.311</td> <td>    1.528</td>\n",
       "</tr>\n",
       "<tr>\n",
       "  <th>StreamingMovies</th>  <td>    1.6870</td> <td>    0.056</td> <td>   29.953</td> <td> 0.000</td> <td>    1.577</td> <td>    1.797</td>\n",
       "</tr>\n",
       "</table>"
      ],
      "text/plain": [
       "<class 'statsmodels.iolib.summary.Summary'>\n",
       "\"\"\"\n",
       "                           Logit Regression Results                           \n",
       "==============================================================================\n",
       "Dep. Variable:                  Churn   No. Observations:                10000\n",
       "Model:                          Logit   Df Residuals:                     9991\n",
       "Method:                           MLE   Df Model:                            8\n",
       "Date:                Sat, 25 Jun 2022   Pseudo R-squ.:                  0.2258\n",
       "Time:                        18:06:17   Log-Likelihood:                -4476.5\n",
       "converged:                       True   LL-Null:                       -5782.2\n",
       "Covariance Type:            nonrobust   LLR p-value:                     0.000\n",
       "====================================================================================\n",
       "                       coef    std err          z      P>|z|      [0.025      0.975]\n",
       "------------------------------------------------------------------------------------\n",
       "Intercept           -3.0019      0.083    -36.214      0.000      -3.164      -2.839\n",
       "Area_Urban           0.1044      0.055      1.885      0.059      -0.004       0.213\n",
       "Contract_numeric    -1.0097      0.038    -26.628      0.000      -1.084      -0.935\n",
       "Multiple             0.8173      0.053     15.361      0.000       0.713       0.922\n",
       "OnlineBackup         0.3120      0.053      5.931      0.000       0.209       0.415\n",
       "DeviceProtection     0.3092      0.053      5.875      0.000       0.206       0.412\n",
       "TechSupport          0.1668      0.054      3.094      0.002       0.061       0.272\n",
       "StreamingTV          1.4196      0.056     25.573      0.000       1.311       1.528\n",
       "StreamingMovies      1.6870      0.056     29.953      0.000       1.577       1.797\n",
       "====================================================================================\n",
       "\"\"\""
      ]
     },
     "execution_count": 175,
     "metadata": {},
     "output_type": "execute_result"
    }
   ],
   "source": [
    "#Feature Selection with Backward Stepwise Elimination\n",
    "#Drop highest P-value, above 0.05 (Phone)\n",
    "regression_8 = logit('Churn ~ Area_Urban + Contract_numeric + Multiple + OnlineBackup + DeviceProtection + TechSupport + StreamingTV + StreamingMovies', data=df).fit()\n",
    "\n",
    "# display model summary\n",
    "regression_8.summary()"
   ]
  },
  {
   "cell_type": "code",
   "execution_count": 176,
   "id": "79aa9e60",
   "metadata": {},
   "outputs": [
    {
     "name": "stdout",
     "output_type": "stream",
     "text": [
      "Optimization terminated successfully.\n",
      "         Current function value: 0.447830\n",
      "         Iterations 7\n"
     ]
    },
    {
     "data": {
      "text/html": [
       "<table class=\"simpletable\">\n",
       "<caption>Logit Regression Results</caption>\n",
       "<tr>\n",
       "  <th>Dep. Variable:</th>         <td>Churn</td>      <th>  No. Observations:  </th>  <td> 10000</td> \n",
       "</tr>\n",
       "<tr>\n",
       "  <th>Model:</th>                 <td>Logit</td>      <th>  Df Residuals:      </th>  <td>  9992</td> \n",
       "</tr>\n",
       "<tr>\n",
       "  <th>Method:</th>                 <td>MLE</td>       <th>  Df Model:          </th>  <td>     7</td> \n",
       "</tr>\n",
       "<tr>\n",
       "  <th>Date:</th>            <td>Sat, 25 Jun 2022</td> <th>  Pseudo R-squ.:     </th>  <td>0.2255</td> \n",
       "</tr>\n",
       "<tr>\n",
       "  <th>Time:</th>                <td>18:06:17</td>     <th>  Log-Likelihood:    </th> <td> -4478.3</td>\n",
       "</tr>\n",
       "<tr>\n",
       "  <th>converged:</th>             <td>True</td>       <th>  LL-Null:           </th> <td> -5782.2</td>\n",
       "</tr>\n",
       "<tr>\n",
       "  <th>Covariance Type:</th>     <td>nonrobust</td>    <th>  LLR p-value:       </th>  <td> 0.000</td> \n",
       "</tr>\n",
       "</table>\n",
       "<table class=\"simpletable\">\n",
       "<tr>\n",
       "          <td></td>            <th>coef</th>     <th>std err</th>      <th>z</th>      <th>P>|z|</th>  <th>[0.025</th>    <th>0.975]</th>  \n",
       "</tr>\n",
       "<tr>\n",
       "  <th>Intercept</th>        <td>   -2.9673</td> <td>    0.081</td> <td>  -36.784</td> <td> 0.000</td> <td>   -3.125</td> <td>   -2.809</td>\n",
       "</tr>\n",
       "<tr>\n",
       "  <th>Contract_numeric</th> <td>   -1.0089</td> <td>    0.038</td> <td>  -26.620</td> <td> 0.000</td> <td>   -1.083</td> <td>   -0.935</td>\n",
       "</tr>\n",
       "<tr>\n",
       "  <th>Multiple</th>         <td>    0.8176</td> <td>    0.053</td> <td>   15.370</td> <td> 0.000</td> <td>    0.713</td> <td>    0.922</td>\n",
       "</tr>\n",
       "<tr>\n",
       "  <th>OnlineBackup</th>     <td>    0.3132</td> <td>    0.053</td> <td>    5.954</td> <td> 0.000</td> <td>    0.210</td> <td>    0.416</td>\n",
       "</tr>\n",
       "<tr>\n",
       "  <th>DeviceProtection</th> <td>    0.3106</td> <td>    0.053</td> <td>    5.903</td> <td> 0.000</td> <td>    0.207</td> <td>    0.414</td>\n",
       "</tr>\n",
       "<tr>\n",
       "  <th>TechSupport</th>      <td>    0.1689</td> <td>    0.054</td> <td>    3.135</td> <td> 0.002</td> <td>    0.063</td> <td>    0.275</td>\n",
       "</tr>\n",
       "<tr>\n",
       "  <th>StreamingTV</th>      <td>    1.4176</td> <td>    0.055</td> <td>   25.551</td> <td> 0.000</td> <td>    1.309</td> <td>    1.526</td>\n",
       "</tr>\n",
       "<tr>\n",
       "  <th>StreamingMovies</th>  <td>    1.6856</td> <td>    0.056</td> <td>   29.941</td> <td> 0.000</td> <td>    1.575</td> <td>    1.796</td>\n",
       "</tr>\n",
       "</table>"
      ],
      "text/plain": [
       "<class 'statsmodels.iolib.summary.Summary'>\n",
       "\"\"\"\n",
       "                           Logit Regression Results                           \n",
       "==============================================================================\n",
       "Dep. Variable:                  Churn   No. Observations:                10000\n",
       "Model:                          Logit   Df Residuals:                     9992\n",
       "Method:                           MLE   Df Model:                            7\n",
       "Date:                Sat, 25 Jun 2022   Pseudo R-squ.:                  0.2255\n",
       "Time:                        18:06:17   Log-Likelihood:                -4478.3\n",
       "converged:                       True   LL-Null:                       -5782.2\n",
       "Covariance Type:            nonrobust   LLR p-value:                     0.000\n",
       "====================================================================================\n",
       "                       coef    std err          z      P>|z|      [0.025      0.975]\n",
       "------------------------------------------------------------------------------------\n",
       "Intercept           -2.9673      0.081    -36.784      0.000      -3.125      -2.809\n",
       "Contract_numeric    -1.0089      0.038    -26.620      0.000      -1.083      -0.935\n",
       "Multiple             0.8176      0.053     15.370      0.000       0.713       0.922\n",
       "OnlineBackup         0.3132      0.053      5.954      0.000       0.210       0.416\n",
       "DeviceProtection     0.3106      0.053      5.903      0.000       0.207       0.414\n",
       "TechSupport          0.1689      0.054      3.135      0.002       0.063       0.275\n",
       "StreamingTV          1.4176      0.055     25.551      0.000       1.309       1.526\n",
       "StreamingMovies      1.6856      0.056     29.941      0.000       1.575       1.796\n",
       "====================================================================================\n",
       "\"\"\""
      ]
     },
     "execution_count": 176,
     "metadata": {},
     "output_type": "execute_result"
    }
   ],
   "source": [
    "#Feature Selection with Backward Stepwise Elimination\n",
    "#Drop highest P-value, above 0.05 (Area_Urban)\n",
    "regression_9 = logit('Churn ~ Contract_numeric + Multiple + OnlineBackup + DeviceProtection + TechSupport + StreamingTV + StreamingMovies', data=df).fit()\n",
    "\n",
    "# display model summary\n",
    "regression_9.summary()"
   ]
  },
  {
   "cell_type": "code",
   "execution_count": 177,
   "id": "8afe175f",
   "metadata": {},
   "outputs": [],
   "source": [
    "# Create Confusion Matrix and Heatmap\n",
    "\n",
    "Y = df['Churn']\n",
    "X = df[['Contract_numeric', 'Multiple', 'OnlineBackup', 'DeviceProtection', 'TechSupport', 'StreamingTV', 'StreamingMovies']]"
   ]
  },
  {
   "cell_type": "code",
   "execution_count": 178,
   "id": "c99179ba",
   "metadata": {},
   "outputs": [],
   "source": [
    "X_train, X_test, y_train, y_test = train_test_split(X, Y)\n",
    "classifier1 = LogisticRegression()\n",
    "classifier1.fit(X_train, y_train)\n",
    "y_pred = classifier1.predict(X_test)\n",
    "#(Aruchamy, 2021)"
   ]
  },
  {
   "cell_type": "code",
   "execution_count": 179,
   "id": "34d386a4",
   "metadata": {},
   "outputs": [
    {
     "name": "stdout",
     "output_type": "stream",
     "text": [
      "[[1675  150]\n",
      " [ 407  268]]\n"
     ]
    },
    {
     "data": {
      "image/png": "[encoded data removed]",
      "text/plain": [
       "<Figure size 432x288 with 2 Axes>"
      ]
     },
     "metadata": {
      "needs_background": "light"
     },
     "output_type": "display_data"
    }
   ],
   "source": [
    "cm = confusion_matrix(y_test, y_pred)\n",
    "sns.heatmap(cm1,annot = True)\n",
    "print(cm)\n",
    "#(Aruchamy, 2021)"
   ]
  },
  {
   "cell_type": "code",
   "execution_count": null,
   "id": "a8134915",
   "metadata": {},
   "outputs": [],
   "source": []
  }
 ],
 "metadata": {
  "kernelspec": {
   "display_name": "Python 3 (ipykernel)",
   "language": "python",
   "name": "python3"
  },
  "language_info": {
   "codemirror_mode": {
    "name": "ipython",
    "version": 3
   },
   "file_extension": ".py",
   "mimetype": "text/x-python",
   "name": "python",
   "nbconvert_exporter": "python",
   "pygments_lexer": "ipython3",
   "version": "3.9.7"
  }
 },
 "nbformat": 4,
 "nbformat_minor": 5
}
